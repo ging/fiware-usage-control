{
 "cells": [
  {
   "cell_type": "code",
   "execution_count": null,
   "metadata": {},
   "outputs": [
    {
     "name": "stdout",
     "output_type": "stream",
     "text": [
      "Starting httpd...\n",
      "b'{    \"rule\": {        \"type\": \"COUNT_POLICY\",        \"params\": {            \"numMaxEvents\": 200,            \"eventWindow\": 15000,             }    },    \"punishment\": {        \"type\":  \"UNSUBSCRIBE\"      }}'\n",
      "b\"[\\x1b[1;34mINFO\\x1b[m] Scanning for projects...\\n[\\x1b[1;34mINFO\\x1b[m] \\n[\\x1b[1;34mINFO\\x1b[m] \\x1b[1m------------------------------------------------------------------------\\x1b[m\\n[\\x1b[1;34mINFO\\x1b[m] \\x1b[1mBuilding orion.flink.cep 1.0-SNAPSHOT\\x1b[m\\n[\\x1b[1;34mINFO\\x1b[m] \\x1b[1m------------------------------------------------------------------------\\x1b[m\\n[\\x1b[1;34mINFO\\x1b[m] \\n[\\x1b[1;34mINFO\\x1b[m] \\x1b[1m--- \\x1b[0;32mbuild-helper-maven-plugin:1.7:add-source\\x1b[m \\x1b[1m(add-source)\\x1b[m @ \\x1b[36morion.flink.cep\\x1b[0;1m ---\\x1b[m\\n[\\x1b[1;34mINFO\\x1b[m] Source directory: /home/amunoz/Desktop/fiware-usage-control/ptp/docker/cep1554740929.3718746/src/main/scala added.\\n[\\x1b[1;34mINFO\\x1b[m] \\n[\\x1b[1;34mINFO\\x1b[m] \\x1b[1m--- \\x1b[0;32mmaven-resources-plugin:2.6:resources\\x1b[m \\x1b[1m(default-resources)\\x1b[m @ \\x1b[36morion.flink.cep\\x1b[0;1m ---\\x1b[m\\n[\\x1b[1;34mINFO\\x1b[m] Using 'UTF-8' encoding to copy filtered resources.\\n[\\x1b[1;34mINFO\\x1b[m] Copying 1 resource\\n[\\x1b[1;34mINFO\\x1b[m] \\n[\\x1b[1;34mINFO\\x1b[m] \\x1b[1m--- \\x1b[0;32mmaven-compiler-plugin:3.1:compile\\x1b[m \\x1b[1m(default-compile)\\x1b[m @ \\x1b[36morion.flink.cep\\x1b[0;1m ---\\x1b[m\\n[\\x1b[1;34mINFO\\x1b[m] Nothing to compile - all classes are up to date\\n[\\x1b[1;34mINFO\\x1b[m] \\n[\\x1b[1;34mINFO\\x1b[m] \\x1b[1m--- \\x1b[0;32mscala-maven-plugin:3.2.2:compile\\x1b[m \\x1b[1m(default)\\x1b[m @ \\x1b[36morion.flink.cep\\x1b[0;1m ---\\x1b[m\\n[\\x1b[1;33mWARNING\\x1b[m]  Expected all dependencies to require Scala version: 2.11.12\\n[\\x1b[1;33mWARNING\\x1b[m]  org.scala-lang:scala-reflect:2.11.12 requires scala version: 2.11.12\\n[\\x1b[1;33mWARNING\\x1b[m]  org.apache.flink:flink-scala_2.11:1.5.4 requires scala version: 2.11.12\\n[\\x1b[1;33mWARNING\\x1b[m]  org.apache.flink:flink-scala_2.11:1.5.4 requires scala version: 2.11.12\\n[\\x1b[1;33mWARNING\\x1b[m]  org.scala-lang:scala-compiler:2.11.12 requires scala version: 2.11.12\\n[\\x1b[1;33mWARNING\\x1b[m]  org.scala-lang.modules:scala-xml_2.11:1.0.5 requires scala version: 2.11.7\\n[\\x1b[1;33mWARNING\\x1b[m] Multiple versions of scala libraries detected!\\n[\\x1b[1;34mINFO\\x1b[m] /home/amunoz/Desktop/fiware-usage-control/ptp/docker/cep1554740929.3718746/src/main/scala:-1: info: compiling\\n[\\x1b[1;34mINFO\\x1b[m] Compiling 16 source files to /home/amunoz/Desktop/fiware-usage-control/ptp/docker/cep1554740929.3718746/target/classes at 1554740928464\\n[\\x1b[1;33mWARNING\\x1b[m] /home/amunoz/Desktop/fiware-usage-control/ptp/docker/cep1554740929.3718746/src/main/scala/org.fiware.cosmos.orion.flink.cep/CBRequests.scala:19: warning: a pure expression does nothing in statement position; you may be omitting necessary parentheses\\n[\\x1b[1;33mWARNING\\x1b[m]       case _: Exception => null\\n[\\x1b[1;33mWARNING\\x1b[m]                            ^\\n[\\x1b[1;33mWARNING\\x1b[m] /home/amunoz/Desktop/fiware-usage-control/ptp/docker/cep1554740929.3718746/src/main/scala/org.fiware.cosmos.orion.flink.cep/CBRequests.scala:20: warning: a pure expression does nothing in statement position; you may be omitting necessary parentheses\\n[\\x1b[1;31mERROR\\x1b[m]       case _: Error => null\\n[\\x1b[1;34mINFO\\x1b[m]                        ^\\n[\\x1b[1;33mWARNING\\x1b[m] /home/amunoz/Desktop/fiware-usage-control/ptp/docker/cep1554740929.3718746/src/main/scala/org.fiware.cosmos.orion.flink.cep/CBRequests.scala:56: warning: a pure expression does nothing in statement position; you may be omitting necessary parentheses\\n[\\x1b[1;33mWARNING\\x1b[m]       case _: Exception => null\\n[\\x1b[1;33mWARNING\\x1b[m]                            ^\\n[\\x1b[1;33mWARNING\\x1b[m] /home/amunoz/Desktop/fiware-usage-control/ptp/docker/cep1554740929.3718746/src/main/scala/org.fiware.cosmos.orion.flink.cep/CBRequests.scala:57: warning: a pure expression does nothing in statement position; you may be omitting necessary parentheses\\n[\\x1b[1;31mERROR\\x1b[m]       case _: Error => null\\n[\\x1b[1;34mINFO\\x1b[m]                        ^\\n[\\x1b[1;33mWARNING\\x1b[m] four warnings found\\n[\\x1b[1;34mINFO\\x1b[m] prepare-compile in 0 s\\n[\\x1b[1;34mINFO\\x1b[m] compile in 6 s\\n[\\x1b[1;34mINFO\\x1b[m] \\n[\\x1b[1;34mINFO\\x1b[m] \\x1b[1m--- \\x1b[0;32mbuild-helper-maven-plugin:1.7:add-test-source\\x1b[m \\x1b[1m(add-test-source)\\x1b[m @ \\x1b[36morion.flink.cep\\x1b[0;1m ---\\x1b[m\\n[\\x1b[1;34mINFO\\x1b[m] Test Source directory: /home/amunoz/Desktop/fiware-usage-control/ptp/docker/cep1554740929.3718746/src/test/scala added.\\n[\\x1b[1;34mINFO\\x1b[m] \\n[\\x1b[1;34mINFO\\x1b[m] \\x1b[1m--- \\x1b[0;32mmaven-resources-plugin:2.6:testResources\\x1b[m \\x1b[1m(default-testResources)\\x1b[m @ \\x1b[36morion.flink.cep\\x1b[0;1m ---\\x1b[m\\n[\\x1b[1;34mINFO\\x1b[m] Using 'UTF-8' encoding to copy filtered resources.\\n[\\x1b[1;34mINFO\\x1b[m] skip non existing resourceDirectory /home/amunoz/Desktop/fiware-usage-control/ptp/docker/cep1554740929.3718746/src/test/resources\\n[\\x1b[1;34mINFO\\x1b[m] \\n[\\x1b[1;34mINFO\\x1b[m] \\x1b[1m--- \\x1b[0;32mmaven-compiler-plugin:3.1:testCompile\\x1b[m \\x1b[1m(default-testCompile)\\x1b[m @ \\x1b[36morion.flink.cep\\x1b[0;1m ---\\x1b[m\\n[\\x1b[1;34mINFO\\x1b[m] No sources to compile\\n[\\x1b[1;34mINFO\\x1b[m] \\n[\\x1b[1;34mINFO\\x1b[m] \\x1b[1m--- \\x1b[0;32mscala-maven-plugin:3.2.2:testCompile\\x1b[m \\x1b[1m(default)\\x1b[m @ \\x1b[36morion.flink.cep\\x1b[0;1m ---\\x1b[m\\n[\\x1b[1;33mWARNING\\x1b[m]  Expected all dependencies to require Scala version: 2.11.12\\n[\\x1b[1;33mWARNING\\x1b[m]  org.scala-lang:scala-reflect:2.11.12 requires scala version: 2.11.12\\n[\\x1b[1;33mWARNING\\x1b[m]  org.apache.flink:flink-scala_2.11:1.5.4 requires scala version: 2.11.12\\n[\\x1b[1;33mWARNING\\x1b[m]  org.apache.flink:flink-scala_2.11:1.5.4 requires scala version: 2.11.12\\n[\\x1b[1;33mWARNING\\x1b[m]  org.scala-lang:scala-compiler:2.11.12 requires scala version: 2.11.12\\n[\\x1b[1;33mWARNING\\x1b[m]  org.scala-lang.modules:scala-xml_2.11:1.0.5 requires scala version: 2.11.7\\n[\\x1b[1;33mWARNING\\x1b[m] Multiple versions of scala libraries detected!\\n[\\x1b[1;34mINFO\\x1b[m] No sources to compile\\n[\\x1b[1;34mINFO\\x1b[m] \\n[\\x1b[1;34mINFO\\x1b[m] \\x1b[1m--- \\x1b[0;32mmaven-surefire-plugin:2.12.4:test\\x1b[m \\x1b[1m(default-test)\\x1b[m @ \\x1b[36morion.flink.cep\\x1b[0;1m ---\\x1b[m\\n[\\x1b[1;34mINFO\\x1b[m] No tests to run.\\n[\\x1b[1;34mINFO\\x1b[m] \\n[\\x1b[1;34mINFO\\x1b[m] \\x1b[1m--- \\x1b[0;32mmaven-jar-plugin:2.4:jar\\x1b[m \\x1b[1m(default-jar)\\x1b[m @ \\x1b[36morion.flink.cep\\x1b[0;1m ---\\x1b[m\\n[\\x1b[1;34mINFO\\x1b[m] Building jar: /home/amunoz/Desktop/fiware-usage-control/ptp/docker/cep1554740929.3718746/target/orion.flink.cep-1.0-SNAPSHOT.jar\\n[\\x1b[1;34mINFO\\x1b[m] \\n[\\x1b[1;34mINFO\\x1b[m] \\x1b[1m--- \\x1b[0;32mmaven-shade-plugin:3.0.0:shade\\x1b[m \\x1b[1m(default)\\x1b[m @ \\x1b[36morion.flink.cep\\x1b[0;1m ---\\x1b[m\\n[\\x1b[1;34mINFO\\x1b[m] Excluding org.slf4j:slf4j-api:jar:1.7.7 from the shaded jar.\\n[\\x1b[1;34mINFO\\x1b[m] Excluding org.apache.flink:force-shading:jar:1.5.4 from the shaded jar.\\n[\\x1b[1;34mINFO\\x1b[m] Excluding org.apache.flink:flink-shaded-guava:jar:18.0-2.0 from the shaded jar.\\n[\\x1b[1;34mINFO\\x1b[m] Excluding org.apache.flink:flink-cep-scala_2.11:jar:1.5.4 from the shaded jar.\\n[\\x1b[1;34mINFO\\x1b[m] Excluding org.apache.flink:flink-cep_2.11:jar:1.5.4 from the shaded jar.\\n[\\x1b[1;34mINFO\\x1b[m] Including org.json4s:json4s-jackson_2.11:jar:3.6.0 in the shaded jar.\\n[\\x1b[1;34mINFO\\x1b[m] Including org.json4s:json4s-core_2.11:jar:3.6.0 in the shaded jar.\\n[\\x1b[1;34mINFO\\x1b[m] Including org.json4s:json4s-ast_2.11:jar:3.6.0 in the shaded jar.\\n[\\x1b[1;34mINFO\\x1b[m] Including org.json4s:json4s-scalap_2.11:jar:3.6.0 in the shaded jar.\\n[\\x1b[1;34mINFO\\x1b[m] Including com.thoughtworks.paranamer:paranamer:jar:2.8 in the shaded jar.\\n[\\x1b[1;34mINFO\\x1b[m] Including com.fasterxml.jackson.core:jackson-databind:jar:2.9.6 in the shaded jar.\\n[\\x1b[1;34mINFO\\x1b[m] Including com.fasterxml.jackson.core:jackson-annotations:jar:2.9.0 in the shaded jar.\\n[\\x1b[1;34mINFO\\x1b[m] Including com.fasterxml.jackson.core:jackson-core:jar:2.9.6 in the shaded jar.\\n[\\x1b[1;34mINFO\\x1b[m] Including io.netty:netty-all:jar:4.1.5.Final in the shaded jar.\\n[\\x1b[1;34mINFO\\x1b[m] Excluding org.apache.flink:flink-connector-kafka-0.11_2.11:jar:1.5.4 from the shaded jar.\\n[\\x1b[1;34mINFO\\x1b[m] Excluding org.apache.flink:flink-connector-kafka-0.10_2.11:jar:1.5.4 from the shaded jar.\\n[\\x1b[1;34mINFO\\x1b[m] Excluding org.apache.flink:flink-connector-kafka-0.9_2.11:jar:1.5.4 from the shaded jar.\\n[\\x1b[1;34mINFO\\x1b[m] Excluding org.apache.flink:flink-connector-kafka-base_2.11:jar:1.5.4 from the shaded jar.\\n[\\x1b[1;34mINFO\\x1b[m] Including org.apache.kafka:kafka-clients:jar:0.11.0.2 in the shaded jar.\\n[\\x1b[1;34mINFO\\x1b[m] Including net.jpountz.lz4:lz4:jar:1.3.0 in the shaded jar.\\n[\\x1b[1;34mINFO\\x1b[m] Including org.xerial.snappy:snappy-java:jar:1.1.2.6 in the shaded jar.\\n[\\x1b[1;34mINFO\\x1b[m] Including org.apache.commons:commons-lang3:jar:3.4 in the shaded jar.\\n[\\x1b[1;34mINFO\\x1b[m] Including org.apache.httpcomponents:httpclient:jar:4.5.2 in the shaded jar.\\n[\\x1b[1;34mINFO\\x1b[m] Including org.apache.httpcomponents:httpcore:jar:4.4.4 in the shaded jar.\\n[\\x1b[1;34mINFO\\x1b[m] Including commons-logging:commons-logging:jar:1.2 in the shaded jar.\\n[\\x1b[1;34mINFO\\x1b[m] Including commons-codec:commons-codec:jar:1.9 in the shaded jar.\\n[\\x1b[1;34mINFO\\x1b[m] Excluding org.slf4j:slf4j-log4j12:jar:1.7.7 from the shaded jar.\\n[\\x1b[1;34mINFO\\x1b[m] Excluding log4j:log4j:jar:1.2.17 from the shaded jar.\\n[\\x1b[1;34mINFO\\x1b[m] Including org.scalaj:scalaj-http_2.10:jar:2.3.0 in the shaded jar.\\n[\\x1b[1;34mINFO\\x1b[m] Replacing original artifact with shaded artifact.\\n[\\x1b[1;34mINFO\\x1b[m] Replacing /home/amunoz/Desktop/fiware-usage-control/ptp/docker/cep1554740929.3718746/target/orion.flink.cep-1.0-SNAPSHOT.jar with /home/amunoz/Desktop/fiware-usage-control/ptp/docker/cep1554740929.3718746/target/orion.flink.cep-1.0-SNAPSHOT-shaded.jar\\n[\\x1b[1;34mINFO\\x1b[m] Dependency-reduced POM written at: /home/amunoz/Desktop/fiware-usage-control/ptp/docker/cep1554740929.3718746/dependency-reduced-pom.xml\\n[\\x1b[1;34mINFO\\x1b[m] \\x1b[1m------------------------------------------------------------------------\\x1b[m\\n[\\x1b[1;34mINFO\\x1b[m] \\x1b[1;32mBUILD SUCCESS\\x1b[m\\n[\\x1b[1;34mINFO\\x1b[m] \\x1b[1m------------------------------------------------------------------------\\x1b[m\\n[\\x1b[1;34mINFO\\x1b[m] Total time: 9.119 s\\n[\\x1b[1;34mINFO\\x1b[m] Finished at: 2019-04-08T18:28:56+02:00\\n[\\x1b[1;34mINFO\\x1b[m] Final Memory: 27M/504M\\n[\\x1b[1;34mINFO\\x1b[m] \\x1b[1m------------------------------------------------------------------------\\x1b[m\\n\"\n",
      "orion.flink.cep-1.0-SNAPSHOT.jar\n",
      "About Uploaded Jar:{'filename': '/tmp/flink-web-2d49b431-eb90-42de-950c-cf8bdd15bb7b/flink-web-upload/1a3d4641-2d38-4f49-a432-c07c7a790f56_orion.flink.cep-1.0-SNAPSHOT.jar', 'status': 'success'}\n"
     ]
    },
    {
     "name": "stdout",
     "output_type": "stream",
     "text": [
      "About the running Job:{'jobid': '492048a9784bda5fd6bb27aa89a218bc'}\n"
     ]
    },
    {
     "name": "stderr",
     "output_type": "stream",
     "text": [
      "127.0.0.1 - - [08/Apr/2019 18:28:56] \"POST / HTTP/1.1\" 200 -\n"
     ]
    }
   ],
   "source": [
    "#!/usr/bin/env python\n",
    "\n",
    "from pathlib import Path   \n",
    "from random import randint\n",
    "from http.server import BaseHTTPRequestHandler, HTTPServer\n",
    "import socketserver,subprocess,os,requests,json,time,shutil\n",
    "\n",
    "class S(BaseHTTPRequestHandler):\n",
    "    def _set_headers(self):\n",
    "        self.send_response(200)\n",
    "        self.send_header('Content-type', 'text/html')\n",
    "        self.end_headers()\n",
    "\n",
    "    def do_GET(self):\n",
    "        self._set_headers()\n",
    "        self.wfile.write(\"<html><body><h1>hi!</h1></body></html>\")\n",
    "\n",
    "    def do_HEAD(self):\n",
    "        self._set_headers()\n",
    "    \n",
    "    def do_DELETE (self):\n",
    "        self._set_headers()\n",
    "    \n",
    "    def do_PATCH (self):\n",
    "        self._set_headers()\n",
    "        \n",
    "    def do_POST(self):\n",
    "        # Doesn't do anything with posted data\n",
    "        flinkEndpoint=\"138.4.7.94:8082\"\n",
    "        entryClass=\"\"\n",
    "        content_length = int(self.headers['Content-Length']) # <--- Gets the size of data\n",
    "        post_data = self.rfile.read(content_length) # <--- Gets the data itself\n",
    "        print(post_data)\n",
    "        ##Call function to generate cep code then call to execute maven, teh code must be in the \n",
    "        #current directory\n",
    "        directory=self.execute_maven()\n",
    "        jarId=self.upload_jar(flinkEndpoint,directory)\n",
    "        jobId=self.run_job(jarId,flinkEndpoint)\n",
    "        self.delete_jar(jarId,flinkEndpoint)\n",
    "        self._set_headers()\n",
    "\n",
    "    def execute_maven(self):\n",
    "        os.chdir('./')\n",
    "    \n",
    "        shutil.copytree('./cep', './cep'+prefix)\n",
    "        mypath = './cep'+prefix\n",
    "        os.chdir(mypath)\n",
    "        p = subprocess.Popen([\"mvn\", \"package\"], stdout=subprocess.PIPE)\n",
    "        output, err = p.communicate()\n",
    "        os.chdir(\"..\")\n",
    "        print (output)\n",
    "        return mypath\n",
    "    \n",
    "    def upload_jar(self,flinkEndpoint,directory):\n",
    "        mypath = directory+'/target'\n",
    "        os.chdir(mypath)\n",
    "        files = os.listdir('./')\n",
    "        jarName = \"\"\n",
    "        for name in files:\n",
    "            if 'cep' in name and 'original' not in name:\n",
    "                jarName = name\n",
    "                print(name)\n",
    "        FLINK_ENDPOINT = \"http://\"+flinkEndpoint+\"/jars/upload\"\n",
    "        file_list = [  \n",
    "        ('jarfile', (jarName, open(jarName, 'rb'), mypath))]\n",
    "        r = requests.post(url = FLINK_ENDPOINT,  files=file_list) \n",
    "        pastebin_url = json.loads(r.text) \n",
    "        args=pastebin_url.get(\"filename\").split(\"/\")\n",
    "        jarId=args[len(args)-1]\n",
    "        print(\"About Uploaded Jar:%s\"%pastebin_url)\n",
    "        os.chdir('../..')\n",
    "        shutil.rmtree('./'+directory, ignore_errors=True)\n",
    "        return jarId\n",
    "   \n",
    "    def run_job(self,jarId,flinkEndpoint):\n",
    "        FLINK_ENDPOINT = \"http://\"+flinkEndpoint+\"/jars/\"+jarId+\"/run?allowNonRestoredState=true\"\n",
    "        r = requests.post(url = FLINK_ENDPOINT) \n",
    "        pastebin_url = json.loads(r.text)\n",
    "        jobID=pastebin_url.get(\"id\")\n",
    "        print(\"About the running Job:%s\"%pastebin_url)    \n",
    "        return jobID  \n",
    "    \n",
    "    def delete_jar(self,jarId,flinkEndpoint):\n",
    "        FLINK_ENDPOINT = \"http://\"+flinkEndpoint+\"/jars/\"+jarId\n",
    "        r = requests.delete(url = FLINK_ENDPOINT)\n",
    "    \n",
    "    def kill_job(self,jobId,flinkEndpoint):\n",
    "        FLINK_ENDPOINT = \"http://\"+flinkEndpoint+\"/jobs/\"+jobId\n",
    "        requests.patch(url = FLINK_ENDPOINT)\n",
    "        \n",
    "def run(server_class=HTTPServer, handler_class=S, port=8092):\n",
    "    server_address = ('', port)\n",
    "    httpd = server_class(server_address, handler_class)\n",
    "    print ('Starting httpd...')\n",
    "    httpd.serve_forever()\n",
    "\n",
    "if __name__ == \"__main__\":\n",
    "    from sys import argv\n",
    "\n",
    "    if len(argv) == 2:\n",
    "        run(port=int(argv[1]))\n",
    "    else:\n",
    "        run()"
   ]
  },
  {
   "cell_type": "code",
   "execution_count": 8,
   "metadata": {},
   "outputs": [
    {
     "name": "stdout",
     "output_type": "stream",
     "text": [
      "About Kill Job:{}\n"
     ]
    }
   ],
   "source": [
    "import json\n",
    "def kill_job(self,jobId,flinkEndpoint):\n",
    "    FLINK_ENDPOINT = \"http://\"+flinkEndpoint+\"/jobs/\"+jobId\n",
    "    requests.patch(url = FLINK_ENDPOINT)\n",
    "    \n",
    "kill_job(\"\",\"5bef5df0b3920a922253faa21d2d5563\",\"138.4.7.94:8082\")"
   ]
  },
  {
   "cell_type": "code",
   "execution_count": 103,
   "metadata": {},
   "outputs": [
    {
     "name": "stdout",
     "output_type": "stream",
     "text": [
      "/home/amunoz/Desktop/fiware-usage-control/ptp/docker\n",
      "Name of the file:  ./cep/src/main/scala/org.fiware.cosmos.orion.flink.cep/CEPMonitoring.scala\n"
     ]
    }
   ],
   "source": [
    "\n",
    "def write_program(self, code):\n",
    "    f = open(\"./cep/src/main/scala/org.fiware.cosmos.orion.flink.cep/CEPMonitoring.scala\", \"r+\")\n",
    "    print (\"Name of the file: \", f.name)\n",
    "    lines= f.readlines()\n",
    "    for x in lines:\n",
    "        part1 = part1 + x\n",
    "        count = count + 1\n",
    "        if '// TODO' in x:\n",
    "            break\n",
    "    count = 0\n",
    "    for x in lines:\n",
    "        count = count + 1\n",
    "        if count > 42:\n",
    "            part2 = part2 + x             \n",
    "    f.close()\n",
    "    w = open(\"./cep/src/main/scala/org.fiware.cosmos.orion.flink.cep/CEPMonitoring.scala\", \"w+\")\n",
    "    w.write(part1)\n",
    "    w.close()\n",
    "    u = open(\"./cep/src/main/scala/org.fiware.cosmos.orion.flink.cep/CEPMonitoring.scala\", \"a\")\n",
    "    u.write(code)\n",
    "    u.write(part2)\n",
    "    u.close()\n",
    "\n"
   ]
  },
  {
   "cell_type": "code",
   "execution_count": 104,
   "metadata": {},
   "outputs": [],
   "source": [
    "    def write_program(self, code):\n",
    "        print(\"xxxxxx\")\n",
    "        print(code)\n",
    "        f = open(\"./cep/src/main/scala/org.fiware.cosmos.orion.flink.cep/CEPMonitoring.scala\", \"r+\")\n",
    "        print (\"Name of the file: \", f.name)\n",
    "        part1 = \"\"\n",
    "        part2 = \"\"\n",
    "        count = 0\n",
    "        lines = f.readlines()\n",
    "        for x in lines:\n",
    "            part1 = part1 + x\n",
    "            if '// TODO' in x:\n",
    "                break\n",
    "        for x in lines:\n",
    "            count = count + 1\n",
    "            if count >= 42:\n",
    "                part2 = part2 + x             \n",
    "        f.close()\n",
    "        w = open(\"./cep/src/main/scala/org.fiware.cosmos.orion.flink.cep/CEPMonitoring.scala\", \"w+\")\n",
    "        w.write(part1)\n",
    "        w.close()\n",
    "        u = open(\"./cep/src/main/scala/org.fiware.cosmos.orion.flink.cep/CEPMonitoring.scala\", \"a\")\n",
    "        print(\"aaaaaaaaaaaaaaaaaaaaaaaaaaaaaa<\")\n",
    "        print(code)\n",
    "        u.write(code)\n",
    "        u.write(part2)\n",
    "        u.close()"
   ]
  },
  {
   "cell_type": "code",
   "execution_count": null,
   "metadata": {},
   "outputs": [],
   "source": [
    "os.path.dirname(os.path.abspath(__file__))\n"
   ]
  },
  {
   "cell_type": "code",
   "execution_count": 2,
   "metadata": {},
   "outputs": [],
   "source": [
    " from pathlib import Path    "
   ]
  },
  {
   "cell_type": "code",
   "execution_count": 6,
   "metadata": {},
   "outputs": [
    {
     "name": "stdout",
     "output_type": "stream",
     "text": [
      "Absolute path : /home/amunoz/Desktop/fiware-usage-control/ptp/docker/cep/target\n",
      "orion.flink.cep-1.0-SNAPSHOT.jar\n",
      "classes\n",
      "maven-status\n",
      "original-orion.flink.cep-1.0-SNAPSHOT.jar\n",
      "classes.912030222.timestamp\n",
      "maven-archiver\n"
     ]
    },
    {
     "ename": "FileNotFoundError",
     "evalue": "[Errno 2] No such file or directory: 'orion.flink.cep-1.0-SNAPSHOT.jar'",
     "output_type": "error",
     "traceback": [
      "\u001b[0;31m---------------------------------------------------------------------------\u001b[0m",
      "\u001b[0;31mFileNotFoundError\u001b[0m                         Traceback (most recent call last)",
      "\u001b[0;32m<ipython-input-6-04a74152fb07>\u001b[0m in \u001b[0;36m<module>\u001b[0;34m\u001b[0m\n\u001b[1;32m     19\u001b[0m     \u001b[0mprint\u001b[0m\u001b[0;34m(\u001b[0m\u001b[0;34m\"About Uploaded Jar:%s\"\u001b[0m\u001b[0;34m%\u001b[0m\u001b[0mpastebin_url\u001b[0m\u001b[0;34m)\u001b[0m\u001b[0;34m\u001b[0m\u001b[0;34m\u001b[0m\u001b[0m\n\u001b[1;32m     20\u001b[0m \u001b[0;34m\u001b[0m\u001b[0m\n\u001b[0;32m---> 21\u001b[0;31m \u001b[0mupload_job\u001b[0m\u001b[0;34m(\u001b[0m\u001b[0;34m\"138.4.7.94:8082\"\u001b[0m\u001b[0;34m)\u001b[0m\u001b[0;34m\u001b[0m\u001b[0;34m\u001b[0m\u001b[0m\n\u001b[0m",
      "\u001b[0;32m<ipython-input-6-04a74152fb07>\u001b[0m in \u001b[0;36mupload_job\u001b[0;34m(flinkEndpoint)\u001b[0m\n\u001b[1;32m     12\u001b[0m     \u001b[0mFLINK_ENDPOINT\u001b[0m \u001b[0;34m=\u001b[0m \u001b[0;34m\"http://\"\u001b[0m\u001b[0;34m+\u001b[0m\u001b[0mflinkEndpoint\u001b[0m\u001b[0;34m+\u001b[0m\u001b[0;34m\"/jars/upload\"\u001b[0m\u001b[0;34m\u001b[0m\u001b[0;34m\u001b[0m\u001b[0m\n\u001b[1;32m     13\u001b[0m     file_list = [  \n\u001b[0;32m---> 14\u001b[0;31m     ('jarfile', ('orion.flink.cep-1.0-SNAPSHOT.jar', open('orion.flink.cep-1.0-SNAPSHOT.jar', 'rb'), mypath))]\n\u001b[0m\u001b[1;32m     15\u001b[0m     \u001b[0mr\u001b[0m \u001b[0;34m=\u001b[0m \u001b[0mrequests\u001b[0m\u001b[0;34m.\u001b[0m\u001b[0mpost\u001b[0m\u001b[0;34m(\u001b[0m\u001b[0murl\u001b[0m \u001b[0;34m=\u001b[0m \u001b[0mFLINK_ENDPOINT\u001b[0m\u001b[0;34m,\u001b[0m  \u001b[0mfiles\u001b[0m\u001b[0;34m=\u001b[0m\u001b[0mfile_list\u001b[0m\u001b[0;34m)\u001b[0m\u001b[0;34m\u001b[0m\u001b[0;34m\u001b[0m\u001b[0m\n\u001b[1;32m     16\u001b[0m     \u001b[0mpastebin_url\u001b[0m \u001b[0;34m=\u001b[0m \u001b[0mjson\u001b[0m\u001b[0;34m.\u001b[0m\u001b[0mloads\u001b[0m\u001b[0;34m(\u001b[0m\u001b[0mr\u001b[0m\u001b[0;34m.\u001b[0m\u001b[0mtext\u001b[0m\u001b[0;34m)\u001b[0m\u001b[0;34m\u001b[0m\u001b[0;34m\u001b[0m\u001b[0m\n",
      "\u001b[0;31mFileNotFoundError\u001b[0m: [Errno 2] No such file or directory: 'orion.flink.cep-1.0-SNAPSHOT.jar'"
     ]
    }
   ],
   "source": [
    "import requests \n",
    "import json,os\n",
    "\n",
    "\n",
    "\n",
    "mypath = Path().absolute()/'cep'/'target'\n",
    "print('Absolute path : {}'.format(mypath))\n",
    "files = os.listdir(mypath)\n",
    "for name in files:\n",
    "    print(name)\n",
    "        \n",
    "def upload_job(flinkEndpoint):\n",
    "    \n",
    "    mypath = Path().absolute()/'cep'/'target'\n",
    "    FLINK_ENDPOINT = \"http://\"+flinkEndpoint+\"/jars/upload\"\n",
    "    file_list = [  \n",
    "    ('jarfile', ('orion.flink.cep-1.0-SNAPSHOT.jar', open('orion.flink.cep-1.0-SNAPSHOT.jar', 'rb'), mypath))]\n",
    "    r = requests.post(url = FLINK_ENDPOINT,  files=file_list) \n",
    "    pastebin_url = json.loads(r.text) \n",
    "    args=pastebin_url.get(\"filename\").split(\"/\")\n",
    "    jarId=args[len(args)-1]\n",
    "    print(\"About Uploaded Jar:%s\"%pastebin_url)\n",
    "\n",
    "upload_job(\"138.4.7.94:8082\")"
   ]
  },
  {
   "cell_type": "code",
   "execution_count": 4,
   "metadata": {},
   "outputs": [
    {
     "name": "stdout",
     "output_type": "stream",
     "text": [
      "1554738674.3973835\n"
     ]
    }
   ],
   "source": [
    "import time\n",
    "from random import randint\n",
    "rand=randint(0, 9)\n",
    "ts = time.time()\n",
    "print(ts+rand)"
   ]
  },
  {
   "cell_type": "code",
   "execution_count": 15,
   "metadata": {},
   "outputs": [
    {
     "name": "stdout",
     "output_type": "stream",
     "text": [
      "/home/amunoz/Desktop/fiware-usage-control/ptp/docker\n",
      "b\"[\\x1b[1;34mINFO\\x1b[m] Scanning for projects...\\n[\\x1b[1;34mINFO\\x1b[m] \\n[\\x1b[1;34mINFO\\x1b[m] \\x1b[1m------------------------------------------------------------------------\\x1b[m\\n[\\x1b[1;34mINFO\\x1b[m] \\x1b[1mBuilding orion.flink.cep 1.0-SNAPSHOT\\x1b[m\\n[\\x1b[1;34mINFO\\x1b[m] \\x1b[1m------------------------------------------------------------------------\\x1b[m\\n[\\x1b[1;34mINFO\\x1b[m] \\n[\\x1b[1;34mINFO\\x1b[m] \\x1b[1m--- \\x1b[0;32mbuild-helper-maven-plugin:1.7:add-source\\x1b[m \\x1b[1m(add-source)\\x1b[m @ \\x1b[36morion.flink.cep\\x1b[0;1m ---\\x1b[m\\n[\\x1b[1;34mINFO\\x1b[m] Source directory: /home/amunoz/Desktop/fiware-usage-control/ptp/docker/cep1554739418.8544347/src/main/scala added.\\n[\\x1b[1;34mINFO\\x1b[m] \\n[\\x1b[1;34mINFO\\x1b[m] \\x1b[1m--- \\x1b[0;32mmaven-resources-plugin:2.6:resources\\x1b[m \\x1b[1m(default-resources)\\x1b[m @ \\x1b[36morion.flink.cep\\x1b[0;1m ---\\x1b[m\\n[\\x1b[1;34mINFO\\x1b[m] Using 'UTF-8' encoding to copy filtered resources.\\n[\\x1b[1;34mINFO\\x1b[m] Copying 1 resource\\n[\\x1b[1;34mINFO\\x1b[m] \\n[\\x1b[1;34mINFO\\x1b[m] \\x1b[1m--- \\x1b[0;32mmaven-compiler-plugin:3.1:compile\\x1b[m \\x1b[1m(default-compile)\\x1b[m @ \\x1b[36morion.flink.cep\\x1b[0;1m ---\\x1b[m\\n[\\x1b[1;34mINFO\\x1b[m] Nothing to compile - all classes are up to date\\n[\\x1b[1;34mINFO\\x1b[m] \\n[\\x1b[1;34mINFO\\x1b[m] \\x1b[1m--- \\x1b[0;32mscala-maven-plugin:3.2.2:compile\\x1b[m \\x1b[1m(default)\\x1b[m @ \\x1b[36morion.flink.cep\\x1b[0;1m ---\\x1b[m\\n[\\x1b[1;33mWARNING\\x1b[m]  Expected all dependencies to require Scala version: 2.11.12\\n[\\x1b[1;33mWARNING\\x1b[m]  org.scala-lang:scala-reflect:2.11.12 requires scala version: 2.11.12\\n[\\x1b[1;33mWARNING\\x1b[m]  org.apache.flink:flink-scala_2.11:1.5.4 requires scala version: 2.11.12\\n[\\x1b[1;33mWARNING\\x1b[m]  org.apache.flink:flink-scala_2.11:1.5.4 requires scala version: 2.11.12\\n[\\x1b[1;33mWARNING\\x1b[m]  org.scala-lang:scala-compiler:2.11.12 requires scala version: 2.11.12\\n[\\x1b[1;33mWARNING\\x1b[m]  org.scala-lang.modules:scala-xml_2.11:1.0.5 requires scala version: 2.11.7\\n[\\x1b[1;33mWARNING\\x1b[m] Multiple versions of scala libraries detected!\\n[\\x1b[1;34mINFO\\x1b[m] /home/amunoz/Desktop/fiware-usage-control/ptp/docker/cep1554739418.8544347/src/main/scala:-1: info: compiling\\n[\\x1b[1;34mINFO\\x1b[m] Compiling 16 source files to /home/amunoz/Desktop/fiware-usage-control/ptp/docker/cep1554739418.8544347/target/classes at 1554739417843\\n[\\x1b[1;33mWARNING\\x1b[m] /home/amunoz/Desktop/fiware-usage-control/ptp/docker/cep1554739418.8544347/src/main/scala/org.fiware.cosmos.orion.flink.cep/CBRequests.scala:19: warning: a pure expression does nothing in statement position; you may be omitting necessary parentheses\\n[\\x1b[1;33mWARNING\\x1b[m]       case _: Exception => null\\n[\\x1b[1;33mWARNING\\x1b[m]                            ^\\n[\\x1b[1;33mWARNING\\x1b[m] /home/amunoz/Desktop/fiware-usage-control/ptp/docker/cep1554739418.8544347/src/main/scala/org.fiware.cosmos.orion.flink.cep/CBRequests.scala:20: warning: a pure expression does nothing in statement position; you may be omitting necessary parentheses\\n[\\x1b[1;31mERROR\\x1b[m]       case _: Error => null\\n[\\x1b[1;34mINFO\\x1b[m]                        ^\\n[\\x1b[1;33mWARNING\\x1b[m] /home/amunoz/Desktop/fiware-usage-control/ptp/docker/cep1554739418.8544347/src/main/scala/org.fiware.cosmos.orion.flink.cep/CBRequests.scala:56: warning: a pure expression does nothing in statement position; you may be omitting necessary parentheses\\n[\\x1b[1;33mWARNING\\x1b[m]       case _: Exception => null\\n[\\x1b[1;33mWARNING\\x1b[m]                            ^\\n[\\x1b[1;33mWARNING\\x1b[m] /home/amunoz/Desktop/fiware-usage-control/ptp/docker/cep1554739418.8544347/src/main/scala/org.fiware.cosmos.orion.flink.cep/CBRequests.scala:57: warning: a pure expression does nothing in statement position; you may be omitting necessary parentheses\\n[\\x1b[1;31mERROR\\x1b[m]       case _: Error => null\\n[\\x1b[1;34mINFO\\x1b[m]                        ^\\n[\\x1b[1;33mWARNING\\x1b[m] four warnings found\\n[\\x1b[1;34mINFO\\x1b[m] prepare-compile in 0 s\\n[\\x1b[1;34mINFO\\x1b[m] compile in 6 s\\n[\\x1b[1;34mINFO\\x1b[m] \\n[\\x1b[1;34mINFO\\x1b[m] \\x1b[1m--- \\x1b[0;32mbuild-helper-maven-plugin:1.7:add-test-source\\x1b[m \\x1b[1m(add-test-source)\\x1b[m @ \\x1b[36morion.flink.cep\\x1b[0;1m ---\\x1b[m\\n[\\x1b[1;34mINFO\\x1b[m] Test Source directory: /home/amunoz/Desktop/fiware-usage-control/ptp/docker/cep1554739418.8544347/src/test/scala added.\\n[\\x1b[1;34mINFO\\x1b[m] \\n[\\x1b[1;34mINFO\\x1b[m] \\x1b[1m--- \\x1b[0;32mmaven-resources-plugin:2.6:testResources\\x1b[m \\x1b[1m(default-testResources)\\x1b[m @ \\x1b[36morion.flink.cep\\x1b[0;1m ---\\x1b[m\\n[\\x1b[1;34mINFO\\x1b[m] Using 'UTF-8' encoding to copy filtered resources.\\n[\\x1b[1;34mINFO\\x1b[m] skip non existing resourceDirectory /home/amunoz/Desktop/fiware-usage-control/ptp/docker/cep1554739418.8544347/src/test/resources\\n[\\x1b[1;34mINFO\\x1b[m] \\n[\\x1b[1;34mINFO\\x1b[m] \\x1b[1m--- \\x1b[0;32mmaven-compiler-plugin:3.1:testCompile\\x1b[m \\x1b[1m(default-testCompile)\\x1b[m @ \\x1b[36morion.flink.cep\\x1b[0;1m ---\\x1b[m\\n[\\x1b[1;34mINFO\\x1b[m] No sources to compile\\n[\\x1b[1;34mINFO\\x1b[m] \\n[\\x1b[1;34mINFO\\x1b[m] \\x1b[1m--- \\x1b[0;32mscala-maven-plugin:3.2.2:testCompile\\x1b[m \\x1b[1m(default)\\x1b[m @ \\x1b[36morion.flink.cep\\x1b[0;1m ---\\x1b[m\\n[\\x1b[1;33mWARNING\\x1b[m]  Expected all dependencies to require Scala version: 2.11.12\\n[\\x1b[1;33mWARNING\\x1b[m]  org.scala-lang:scala-reflect:2.11.12 requires scala version: 2.11.12\\n[\\x1b[1;33mWARNING\\x1b[m]  org.apache.flink:flink-scala_2.11:1.5.4 requires scala version: 2.11.12\\n[\\x1b[1;33mWARNING\\x1b[m]  org.apache.flink:flink-scala_2.11:1.5.4 requires scala version: 2.11.12\\n[\\x1b[1;33mWARNING\\x1b[m]  org.scala-lang:scala-compiler:2.11.12 requires scala version: 2.11.12\\n[\\x1b[1;33mWARNING\\x1b[m]  org.scala-lang.modules:scala-xml_2.11:1.0.5 requires scala version: 2.11.7\\n[\\x1b[1;33mWARNING\\x1b[m] Multiple versions of scala libraries detected!\\n[\\x1b[1;34mINFO\\x1b[m] No sources to compile\\n[\\x1b[1;34mINFO\\x1b[m] \\n[\\x1b[1;34mINFO\\x1b[m] \\x1b[1m--- \\x1b[0;32mmaven-surefire-plugin:2.12.4:test\\x1b[m \\x1b[1m(default-test)\\x1b[m @ \\x1b[36morion.flink.cep\\x1b[0;1m ---\\x1b[m\\n[\\x1b[1;34mINFO\\x1b[m] No tests to run.\\n[\\x1b[1;34mINFO\\x1b[m] \\n[\\x1b[1;34mINFO\\x1b[m] \\x1b[1m--- \\x1b[0;32mmaven-jar-plugin:2.4:jar\\x1b[m \\x1b[1m(default-jar)\\x1b[m @ \\x1b[36morion.flink.cep\\x1b[0;1m ---\\x1b[m\\n[\\x1b[1;34mINFO\\x1b[m] Building jar: /home/amunoz/Desktop/fiware-usage-control/ptp/docker/cep1554739418.8544347/target/orion.flink.cep-1.0-SNAPSHOT.jar\\n[\\x1b[1;34mINFO\\x1b[m] \\n[\\x1b[1;34mINFO\\x1b[m] \\x1b[1m--- \\x1b[0;32mmaven-shade-plugin:3.0.0:shade\\x1b[m \\x1b[1m(default)\\x1b[m @ \\x1b[36morion.flink.cep\\x1b[0;1m ---\\x1b[m\\n[\\x1b[1;34mINFO\\x1b[m] Excluding org.slf4j:slf4j-api:jar:1.7.7 from the shaded jar.\\n[\\x1b[1;34mINFO\\x1b[m] Excluding org.apache.flink:force-shading:jar:1.5.4 from the shaded jar.\\n[\\x1b[1;34mINFO\\x1b[m] Excluding org.apache.flink:flink-shaded-guava:jar:18.0-2.0 from the shaded jar.\\n[\\x1b[1;34mINFO\\x1b[m] Excluding org.apache.flink:flink-cep-scala_2.11:jar:1.5.4 from the shaded jar.\\n[\\x1b[1;34mINFO\\x1b[m] Excluding org.apache.flink:flink-cep_2.11:jar:1.5.4 from the shaded jar.\\n[\\x1b[1;34mINFO\\x1b[m] Including org.json4s:json4s-jackson_2.11:jar:3.6.0 in the shaded jar.\\n[\\x1b[1;34mINFO\\x1b[m] Including org.json4s:json4s-core_2.11:jar:3.6.0 in the shaded jar.\\n[\\x1b[1;34mINFO\\x1b[m] Including org.json4s:json4s-ast_2.11:jar:3.6.0 in the shaded jar.\\n[\\x1b[1;34mINFO\\x1b[m] Including org.json4s:json4s-scalap_2.11:jar:3.6.0 in the shaded jar.\\n[\\x1b[1;34mINFO\\x1b[m] Including com.thoughtworks.paranamer:paranamer:jar:2.8 in the shaded jar.\\n[\\x1b[1;34mINFO\\x1b[m] Including com.fasterxml.jackson.core:jackson-databind:jar:2.9.6 in the shaded jar.\\n[\\x1b[1;34mINFO\\x1b[m] Including com.fasterxml.jackson.core:jackson-annotations:jar:2.9.0 in the shaded jar.\\n[\\x1b[1;34mINFO\\x1b[m] Including com.fasterxml.jackson.core:jackson-core:jar:2.9.6 in the shaded jar.\\n[\\x1b[1;34mINFO\\x1b[m] Including io.netty:netty-all:jar:4.1.5.Final in the shaded jar.\\n[\\x1b[1;34mINFO\\x1b[m] Excluding org.apache.flink:flink-connector-kafka-0.11_2.11:jar:1.5.4 from the shaded jar.\\n[\\x1b[1;34mINFO\\x1b[m] Excluding org.apache.flink:flink-connector-kafka-0.10_2.11:jar:1.5.4 from the shaded jar.\\n[\\x1b[1;34mINFO\\x1b[m] Excluding org.apache.flink:flink-connector-kafka-0.9_2.11:jar:1.5.4 from the shaded jar.\\n[\\x1b[1;34mINFO\\x1b[m] Excluding org.apache.flink:flink-connector-kafka-base_2.11:jar:1.5.4 from the shaded jar.\\n[\\x1b[1;34mINFO\\x1b[m] Including org.apache.kafka:kafka-clients:jar:0.11.0.2 in the shaded jar.\\n[\\x1b[1;34mINFO\\x1b[m] Including net.jpountz.lz4:lz4:jar:1.3.0 in the shaded jar.\\n[\\x1b[1;34mINFO\\x1b[m] Including org.xerial.snappy:snappy-java:jar:1.1.2.6 in the shaded jar.\\n[\\x1b[1;34mINFO\\x1b[m] Including org.apache.commons:commons-lang3:jar:3.4 in the shaded jar.\\n[\\x1b[1;34mINFO\\x1b[m] Including org.apache.httpcomponents:httpclient:jar:4.5.2 in the shaded jar.\\n[\\x1b[1;34mINFO\\x1b[m] Including org.apache.httpcomponents:httpcore:jar:4.4.4 in the shaded jar.\\n[\\x1b[1;34mINFO\\x1b[m] Including commons-logging:commons-logging:jar:1.2 in the shaded jar.\\n[\\x1b[1;34mINFO\\x1b[m] Including commons-codec:commons-codec:jar:1.9 in the shaded jar.\\n[\\x1b[1;34mINFO\\x1b[m] Excluding org.slf4j:slf4j-log4j12:jar:1.7.7 from the shaded jar.\\n[\\x1b[1;34mINFO\\x1b[m] Excluding log4j:log4j:jar:1.2.17 from the shaded jar.\\n[\\x1b[1;34mINFO\\x1b[m] Including org.scalaj:scalaj-http_2.10:jar:2.3.0 in the shaded jar.\\n[\\x1b[1;34mINFO\\x1b[m] Replacing original artifact with shaded artifact.\\n[\\x1b[1;34mINFO\\x1b[m] Replacing /home/amunoz/Desktop/fiware-usage-control/ptp/docker/cep1554739418.8544347/target/orion.flink.cep-1.0-SNAPSHOT.jar with /home/amunoz/Desktop/fiware-usage-control/ptp/docker/cep1554739418.8544347/target/orion.flink.cep-1.0-SNAPSHOT-shaded.jar\\n[\\x1b[1;34mINFO\\x1b[m] Dependency-reduced POM written at: /home/amunoz/Desktop/fiware-usage-control/ptp/docker/cep1554739418.8544347/dependency-reduced-pom.xml\\n[\\x1b[1;34mINFO\\x1b[m] \\x1b[1m------------------------------------------------------------------------\\x1b[m\\n[\\x1b[1;34mINFO\\x1b[m] \\x1b[1;32mBUILD SUCCESS\\x1b[m\\n[\\x1b[1;34mINFO\\x1b[m] \\x1b[1m------------------------------------------------------------------------\\x1b[m\\n[\\x1b[1;34mINFO\\x1b[m] Total time: 8.608 s\\n[\\x1b[1;34mINFO\\x1b[m] Finished at: 2019-04-08T18:03:45+02:00\\n[\\x1b[1;34mINFO\\x1b[m] Final Memory: 28M/497M\\n[\\x1b[1;34mINFO\\x1b[m] \\x1b[1m------------------------------------------------------------------------\\x1b[m\\n\"\n"
     ]
    }
   ],
   "source": [
    "import time,os\n",
    "import shutil, subprocess\n",
    "from random import randint\n",
    "os.chdir('/home/amunoz/Desktop/fiware-usage-control/ptp/docker/')\n",
    "def execute_maven(self):\n",
    "        prefix=str(randint(0, 9)+time.time())\n",
    "        shutil.copytree('./cep', './cep'+prefix)\n",
    "        mypath = './cep'+prefix\n",
    "        os.chdir(mypath)\n",
    "        p = subprocess.Popen([\"mvn\", \"package\"], stdout=subprocess.PIPE)\n",
    "        output, err = p.communicate()\n",
    "        print (output)\n",
    "        return mypath\n",
    "directory=execute_maven(\"\")"
   ]
  },
  {
   "cell_type": "code",
   "execution_count": 61,
   "metadata": {},
   "outputs": [
    {
     "name": "stdout",
     "output_type": "stream",
     "text": [
      "About the running Job:{'jobid': '4183f3da317b8abfab48332fa260a3c2'}\n"
     ]
    }
   ],
   "source": [
    "def run_job(self,jarId,flinkEndpoint,entryClass=''):\n",
    "        if(entryClass==None or entryClass==''):\n",
    "            entryClass=\"org.fiware.cosmos.orion.flink.cep.CEPMonitoring.class\"\n",
    "            #entry-class=org.fiware.cosmos.orion.flink.cep.CEPMonitoring.class&\n",
    "        FLINK_ENDPOINT = \"http://\"+flinkEndpoint+\"/jars/\"+jarId+\"/run?allowNonRestoredState=true\"\n",
    "        r = requests.post(url = FLINK_ENDPOINT) \n",
    "        pastebin_url = json.loads(r.text)\n",
    "        jobID=pastebin_url.get(\"id\")\n",
    "        print(\"About the running Job:%s\"%pastebin_url)    \n",
    "        return jobID\n",
    "\n",
    "run_job(\"\",\"201986ff-9e15-4e3a-8a15-b62658a7d38f_orion.flink.cep-1.0-SNAPSHOT.jar\",\"138.4.7.94:8082\")"
   ]
  },
  {
   "cell_type": "code",
   "execution_count": 4,
   "metadata": {},
   "outputs": [],
   "source": [
    "\n",
    "import requests\n",
    "\n",
    "def delete_jar(self,jarId,flinkEndpoint):\n",
    "        FLINK_ENDPOINT = \"http://\"+flinkEndpoint+\"/jars/\"+jarId\n",
    "        r = requests.delete(url = FLINK_ENDPOINT)\n",
    "        \n",
    "delete_jar(\"\",\"180c6db8-c01d-4064-b71e-0fab7b3eaf27_orion.flink.cep-1.0-SNAPSHOT.jar\",\"138.4.7.94:8082\")\n"
   ]
  }
 ],
 "metadata": {
  "kernelspec": {
   "display_name": "Python 3",
   "language": "python",
   "name": "python3"
  },
  "language_info": {
   "codemirror_mode": {
    "name": "ipython",
    "version": 3
   },
   "file_extension": ".py",
   "mimetype": "text/x-python",
   "name": "python",
   "nbconvert_exporter": "python",
   "pygments_lexer": "ipython3",
   "version": "3.6.7"
  }
 },
 "nbformat": 4,
 "nbformat_minor": 2
}
