{
 "cells": [
  {
   "cell_type": "code",
   "execution_count": 1,
   "metadata": {},
   "outputs": [
    {
     "name": "stdout",
     "output_type": "stream",
     "text": [
      "Starting httpd...\n"
     ]
    },
    {
     "ename": "KeyboardInterrupt",
     "evalue": "",
     "output_type": "error",
     "traceback": [
      "\u001b[0;31m---------------------------------------------------------------------------\u001b[0m",
      "\u001b[0;31mKeyboardInterrupt\u001b[0m                         Traceback (most recent call last)",
      "\u001b[0;32m<ipython-input-1-0824121172df>\u001b[0m in \u001b[0;36m<module>\u001b[0;34m\u001b[0m\n\u001b[1;32m     59\u001b[0m         \u001b[0mrun\u001b[0m\u001b[0;34m(\u001b[0m\u001b[0mport\u001b[0m\u001b[0;34m=\u001b[0m\u001b[0mint\u001b[0m\u001b[0;34m(\u001b[0m\u001b[0margv\u001b[0m\u001b[0;34m[\u001b[0m\u001b[0;36m1\u001b[0m\u001b[0;34m]\u001b[0m\u001b[0;34m)\u001b[0m\u001b[0;34m)\u001b[0m\u001b[0;34m\u001b[0m\u001b[0;34m\u001b[0m\u001b[0m\n\u001b[1;32m     60\u001b[0m     \u001b[0;32melse\u001b[0m\u001b[0;34m:\u001b[0m\u001b[0;34m\u001b[0m\u001b[0;34m\u001b[0m\u001b[0m\n\u001b[0;32m---> 61\u001b[0;31m         \u001b[0mrun\u001b[0m\u001b[0;34m(\u001b[0m\u001b[0;34m)\u001b[0m\u001b[0;34m\u001b[0m\u001b[0;34m\u001b[0m\u001b[0m\n\u001b[0m",
      "\u001b[0;32m<ipython-input-1-0824121172df>\u001b[0m in \u001b[0;36mrun\u001b[0;34m(server_class, handler_class, port)\u001b[0m\n\u001b[1;32m     51\u001b[0m     \u001b[0mhttpd\u001b[0m \u001b[0;34m=\u001b[0m \u001b[0mserver_class\u001b[0m\u001b[0;34m(\u001b[0m\u001b[0mserver_address\u001b[0m\u001b[0;34m,\u001b[0m \u001b[0mhandler_class\u001b[0m\u001b[0;34m)\u001b[0m\u001b[0;34m\u001b[0m\u001b[0;34m\u001b[0m\u001b[0m\n\u001b[1;32m     52\u001b[0m     \u001b[0mprint\u001b[0m \u001b[0;34m(\u001b[0m\u001b[0;34m'Starting httpd...'\u001b[0m\u001b[0;34m)\u001b[0m\u001b[0;34m\u001b[0m\u001b[0;34m\u001b[0m\u001b[0m\n\u001b[0;32m---> 53\u001b[0;31m     \u001b[0mhttpd\u001b[0m\u001b[0;34m.\u001b[0m\u001b[0mserve_forever\u001b[0m\u001b[0;34m(\u001b[0m\u001b[0;34m)\u001b[0m\u001b[0;34m\u001b[0m\u001b[0;34m\u001b[0m\u001b[0m\n\u001b[0m\u001b[1;32m     54\u001b[0m \u001b[0;34m\u001b[0m\u001b[0m\n\u001b[1;32m     55\u001b[0m \u001b[0;32mif\u001b[0m \u001b[0m__name__\u001b[0m \u001b[0;34m==\u001b[0m \u001b[0;34m\"__main__\"\u001b[0m\u001b[0;34m:\u001b[0m\u001b[0;34m\u001b[0m\u001b[0;34m\u001b[0m\u001b[0m\n",
      "\u001b[0;32m/usr/lib/python3.6/socketserver.py\u001b[0m in \u001b[0;36mserve_forever\u001b[0;34m(self, poll_interval)\u001b[0m\n\u001b[1;32m    234\u001b[0m \u001b[0;34m\u001b[0m\u001b[0m\n\u001b[1;32m    235\u001b[0m                 \u001b[0;32mwhile\u001b[0m \u001b[0;32mnot\u001b[0m \u001b[0mself\u001b[0m\u001b[0;34m.\u001b[0m\u001b[0m__shutdown_request\u001b[0m\u001b[0;34m:\u001b[0m\u001b[0;34m\u001b[0m\u001b[0;34m\u001b[0m\u001b[0m\n\u001b[0;32m--> 236\u001b[0;31m                     \u001b[0mready\u001b[0m \u001b[0;34m=\u001b[0m \u001b[0mselector\u001b[0m\u001b[0;34m.\u001b[0m\u001b[0mselect\u001b[0m\u001b[0;34m(\u001b[0m\u001b[0mpoll_interval\u001b[0m\u001b[0;34m)\u001b[0m\u001b[0;34m\u001b[0m\u001b[0;34m\u001b[0m\u001b[0m\n\u001b[0m\u001b[1;32m    237\u001b[0m                     \u001b[0;32mif\u001b[0m \u001b[0mready\u001b[0m\u001b[0;34m:\u001b[0m\u001b[0;34m\u001b[0m\u001b[0;34m\u001b[0m\u001b[0m\n\u001b[1;32m    238\u001b[0m                         \u001b[0mself\u001b[0m\u001b[0;34m.\u001b[0m\u001b[0m_handle_request_noblock\u001b[0m\u001b[0;34m(\u001b[0m\u001b[0;34m)\u001b[0m\u001b[0;34m\u001b[0m\u001b[0;34m\u001b[0m\u001b[0m\n",
      "\u001b[0;32m/usr/lib/python3.6/selectors.py\u001b[0m in \u001b[0;36mselect\u001b[0;34m(self, timeout)\u001b[0m\n\u001b[1;32m    374\u001b[0m             \u001b[0mready\u001b[0m \u001b[0;34m=\u001b[0m \u001b[0;34m[\u001b[0m\u001b[0;34m]\u001b[0m\u001b[0;34m\u001b[0m\u001b[0;34m\u001b[0m\u001b[0m\n\u001b[1;32m    375\u001b[0m             \u001b[0;32mtry\u001b[0m\u001b[0;34m:\u001b[0m\u001b[0;34m\u001b[0m\u001b[0;34m\u001b[0m\u001b[0m\n\u001b[0;32m--> 376\u001b[0;31m                 \u001b[0mfd_event_list\u001b[0m \u001b[0;34m=\u001b[0m \u001b[0mself\u001b[0m\u001b[0;34m.\u001b[0m\u001b[0m_poll\u001b[0m\u001b[0;34m.\u001b[0m\u001b[0mpoll\u001b[0m\u001b[0;34m(\u001b[0m\u001b[0mtimeout\u001b[0m\u001b[0;34m)\u001b[0m\u001b[0;34m\u001b[0m\u001b[0;34m\u001b[0m\u001b[0m\n\u001b[0m\u001b[1;32m    377\u001b[0m             \u001b[0;32mexcept\u001b[0m \u001b[0mInterruptedError\u001b[0m\u001b[0;34m:\u001b[0m\u001b[0;34m\u001b[0m\u001b[0;34m\u001b[0m\u001b[0m\n\u001b[1;32m    378\u001b[0m                 \u001b[0;32mreturn\u001b[0m \u001b[0mready\u001b[0m\u001b[0;34m\u001b[0m\u001b[0;34m\u001b[0m\u001b[0m\n",
      "\u001b[0;31mKeyboardInterrupt\u001b[0m: "
     ]
    }
   ],
   "source": [
    "#!/usr/bin/env python\n",
    "\"\"\"\n",
    "Very simple HTTP server in python.\n",
    "Usage::\n",
    "    ./dummy-web-server.py [<port>]\n",
    "Send a GET request::\n",
    "    curl http://localhost\n",
    "Send a HEAD request::\n",
    "    curl -I http://localhost\n",
    "Send a POST request::\n",
    "    curl -d \"foo=bar&bin=baz\" http://localhost\n",
    "\"\"\"\n",
    "from pathlib import Path    \n",
    "from http.server import BaseHTTPRequestHandler, HTTPServer\n",
    "import socketserver\n",
    "import subprocess\n",
    "import os\n",
    "import requests \n",
    "import json\n",
    "\n",
    "class S(BaseHTTPRequestHandler):\n",
    "    def _set_headers(self):\n",
    "        self.send_response(200)\n",
    "        self.send_header('Content-type', 'text/html')\n",
    "        self.end_headers()\n",
    "\n",
    "    def do_GET(self):\n",
    "        self._set_headers()\n",
    "        self.wfile.write(\"<html><body><h1>hi!</h1></body></html>\")\n",
    "\n",
    "    def do_HEAD(self):\n",
    "        self._set_headers()\n",
    "        \n",
    "    def do_POST(self):\n",
    "        # Doesn't do anything with posted data\n",
    "        flinkEndpoint=\"138.4.7.94:8082\"\n",
    "        entryClass=\"org.fiware.cosmos.orion.flink.cep.CEPMonitoring2\"\n",
    "        content_length = int(self.headers['Content-Length']) # <--- Gets the size of data\n",
    "        post_data = self.rfile.read(content_length) # <--- Gets the data itself\n",
    "        print(post_data)\n",
    "        ##Call function to generate cep code then call to execute maven, teh code must be in the \n",
    "        #current directory\n",
    "        self.execute_maven()\n",
    "        \n",
    "        jarId=self.upload_job(flinkEndpoint)\n",
    "        sel.run_job(jarId,flinkEndpoint,entryClass)\n",
    "        \n",
    "        self._set_headers()\n",
    "        self.wfile.write(\"<html><body><h1>POST!</h1></body></html>\")\n",
    "    \n",
    "    def execute_maven(self):\n",
    "        p = subprocess.Popen([\"mvn\", \"compile test package\"], stdout=subprocess.PIPE)\n",
    "        output, err = p.communicate()\n",
    "        print (output)\n",
    "    \n",
    "    def upload_job(self,flinkEndpoint):\n",
    "        mypath = Path().absolute()\n",
    "        FLINK_ENDPOINT = \"http://\"+flinkEndpoint+\"/jars/upload\"\n",
    "        file_list = [  \n",
    "        ('jarfile', ('orion.flink.cep-1.0-SNAPSHOT.jar', open('orion.flink.cep-1.0-SNAPSHOT.jar', 'rb'), mypath))]\n",
    "        r = requests.post(url = FLINK_ENDPOINT,  files=file_list) \n",
    "        pastebin_url = json.loads(r.text) \n",
    "        args=pastebin_url.get(\"filename\").split(\"/\")\n",
    "        jarId=args[len(args)-1]\n",
    "        print(\"About Uploaded Jar:%s\"%pastebin_url)\n",
    "        return jarId\n",
    "   \n",
    "    def run_job(self,jarId,flinkEndpoint,entryClass):\n",
    "        if(entryClass==None || entryClass==''):\n",
    "            entryClass=\"org.fiware.cosmos.orion.flink.cep.CEPMonitoring2\"\n",
    "        FLINK_ENDPOINT = \"http://\"+flinkEndpoint+\"/jars/\"+jarId+\"/run?allowNonRestoredState=true\"\n",
    "        body= {\n",
    "          \"type\" : \"object\",\n",
    "          \"id\" : \"urn:jsonschema:org:apache:flink:runtime:webmonitor:handlers:JarRunRequestBody\",\n",
    "          \"properties\" : {\n",
    "            \"entryClass\" : entryClass\n",
    "          }\n",
    "        } \n",
    "        data = json.dumps(body)\n",
    "        r = requests.post(url = FLINK_ENDPOINT,data=data) \n",
    "        pastebin_url = json.loads(r.text)\n",
    "        jobID=pastebin_url.get(\"id\")\n",
    "        print(\"About the running Job:%s\"%pastebin_url)    \n",
    "        return jobID\n",
    "        \n",
    "        \n",
    "def run(server_class=HTTPServer, handler_class=S, port=8092):\n",
    "    server_address = ('', port)\n",
    "    httpd = server_class(server_address, handler_class)\n",
    "    print ('Starting httpd...')\n",
    "    httpd.serve_forever()\n",
    "\n",
    "if __name__ == \"__main__\":\n",
    "    from sys import argv\n",
    "\n",
    "    if len(argv) == 2:\n",
    "        run(port=int(argv[1]))\n",
    "    else:\n",
    "        run()"
   ]
  },
  {
   "cell_type": "code",
   "execution_count": null,
   "metadata": {},
   "outputs": [],
   "source": [
    "os.getcwd()"
   ]
  },
  {
   "cell_type": "code",
   "execution_count": null,
   "metadata": {},
   "outputs": [],
   "source": [
    "os.path.dirname(os.path.abspath(__file__))\n"
   ]
  },
  {
   "cell_type": "code",
   "execution_count": 4,
   "metadata": {},
   "outputs": [],
   "source": [
    " from pathlib import Path    "
   ]
  },
  {
   "cell_type": "code",
   "execution_count": 50,
   "metadata": {},
   "outputs": [
    {
     "name": "stdout",
     "output_type": "stream",
     "text": [
      "Absolute path : /home/amunoz/Desktop/fiware-usage-control/ptp/docker\n",
      "About Uploaded Jar:{'filename': '/tmp/flink-web-2d49b431-eb90-42de-950c-cf8bdd15bb7b/flink-web-upload/e307009b-9a90-42a1-bd22-5476c9e1ddd7_orion.flink.cep-1.0-SNAPSHOT.jar', 'status': 'success'}\n"
     ]
    }
   ],
   "source": [
    "import requests \n",
    "import json\n",
    "\n",
    "mypath = Path().absolute()\n",
    "print('Absolute path : {}'.format(mypath))\n",
    "        \n",
    "def upload_job(flinkEndpoint):\n",
    "    mypath = Path().absolute()\n",
    "    FLINK_ENDPOINT = \"http://\"+flinkEndpoint+\"/jars/upload\"\n",
    "    file_list = [  \n",
    "    ('jarfile', ('orion.flink.cep-1.0-SNAPSHOT.jar', open('orion.flink.cep-1.0-SNAPSHOT.jar', 'rb'), mypath))]\n",
    "    r = requests.post(url = FLINK_ENDPOINT,  files=file_list) \n",
    "    pastebin_url = json.loads(r.text) \n",
    "    args=pastebin_url.get(\"filename\").split(\"/\")\n",
    "    jarId=args[len(args)-1]\n",
    "    print(\"About Uploaded Jar:%s\"%pastebin_url)\n",
    "\n",
    "upload_job(\"138.4.7.94:8082\")"
   ]
  },
  {
   "cell_type": "code",
   "execution_count": 52,
   "metadata": {},
   "outputs": [
    {
     "name": "stdout",
     "output_type": "stream",
     "text": [
      "About the running Job:{'errors': [\"org.apache.flink.client.program.ProgramInvocationException: The program's entry point class 'org.fiware.cosmos.orion.flink.cep.CEPMonitoring' was not found in the jar file.\"]}\n"
     ]
    }
   ],
   "source": [
    "def run_job(self,jarId,flinkEndpoint,entryClass=''):\n",
    "        if(entryClass==None or entryClass==''):\n",
    "            entryClass=\"org.fiware.cosmos.orion.flink.cep.CEPMonitoring.class\"\n",
    "        FLINK_ENDPOINT = \"http://\"+flinkEndpoint+\"/jars/\"+jarId+\"/run?entry-class=org.fiware.cosmos.orion.flink.cep.CEPMonitoring&allowNonRestoredState=true\"\n",
    "        r = requests.post(url = FLINK_ENDPOINT) \n",
    "        pastebin_url = json.loads(r.text)\n",
    "        jobID=pastebin_url.get(\"id\")\n",
    "        print(\"About the running Job:%s\"%pastebin_url)    \n",
    "        return jobID\n",
    "\n",
    "run_job(\"\",\"e307009b-9a90-42a1-bd22-5476c9e1ddd7_orion.flink.cep-1.0-SNAPSHOT.jar\",\"138.4.7.94:8082\")"
   ]
  },
  {
   "cell_type": "code",
   "execution_count": 42,
   "metadata": {},
   "outputs": [
    {
     "name": "stdout",
     "output_type": "stream",
     "text": [
      "{\"type\": \"object\", \"id\": \"urn:jsonschema:org:apache:flink:runtime:webmonitor:handlers:JarRunRequestBody\", \"properties\": {\"entryClass\": \"org.fiware.cosmos.orion.flink.cep.CEPMonitoring2\"}}\n"
     ]
    }
   ],
   "source": [
    "\n",
    "print(data)\n"
   ]
  }
 ],
 "metadata": {
  "kernelspec": {
   "display_name": "Python 3",
   "language": "python",
   "name": "python3"
  },
  "language_info": {
   "codemirror_mode": {
    "name": "ipython",
    "version": 3
   },
   "file_extension": ".py",
   "mimetype": "text/x-python",
   "name": "python",
   "nbconvert_exporter": "python",
   "pygments_lexer": "ipython3",
   "version": "3.6.7"
  }
 },
 "nbformat": 4,
 "nbformat_minor": 2
}
