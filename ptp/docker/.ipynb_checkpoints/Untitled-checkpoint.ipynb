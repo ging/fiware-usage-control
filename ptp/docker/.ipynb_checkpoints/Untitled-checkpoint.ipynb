{
 "cells": [
  {
   "cell_type": "code",
   "execution_count": null,
   "metadata": {},
   "outputs": [
    {
     "name": "stdout",
     "output_type": "stream",
     "text": [
      "Starting httpd...\n",
      "b'{    \"rule\": {        \"type\": \"COUNT_POLICY\",        \"params\": {            \"numMaxEvents\": 200,            \"eventWindow\": 15000,             }    },    \"punishment\": {        \"type\":  \"UNSUBSCRIBE\"      }}'\n",
      "/home/amunoz/Desktop/fiware-usage-control/ptp/docker\n",
      "b\"[\\x1b[1;34mINFO\\x1b[m] Scanning for projects...\\n[\\x1b[1;34mINFO\\x1b[m] \\n[\\x1b[1;34mINFO\\x1b[m] \\x1b[1m------------------------------------------------------------------------\\x1b[m\\n[\\x1b[1;34mINFO\\x1b[m] \\x1b[1mBuilding orion.flink.cep 1.0-SNAPSHOT\\x1b[m\\n[\\x1b[1;34mINFO\\x1b[m] \\x1b[1m------------------------------------------------------------------------\\x1b[m\\n[\\x1b[1;34mINFO\\x1b[m] \\n[\\x1b[1;34mINFO\\x1b[m] \\x1b[1m--- \\x1b[0;32mbuild-helper-maven-plugin:1.7:add-source\\x1b[m \\x1b[1m(add-source)\\x1b[m @ \\x1b[36morion.flink.cep\\x1b[0;1m ---\\x1b[m\\n[\\x1b[1;34mINFO\\x1b[m] Source directory: /home/amunoz/Desktop/fiware-usage-control/ptp/docker/cep/src/main/scala added.\\n[\\x1b[1;34mINFO\\x1b[m] \\n[\\x1b[1;34mINFO\\x1b[m] \\x1b[1m--- \\x1b[0;32mmaven-resources-plugin:2.6:resources\\x1b[m \\x1b[1m(default-resources)\\x1b[m @ \\x1b[36morion.flink.cep\\x1b[0;1m ---\\x1b[m\\n[\\x1b[1;34mINFO\\x1b[m] Using 'UTF-8' encoding to copy filtered resources.\\n[\\x1b[1;34mINFO\\x1b[m] Copying 1 resource\\n[\\x1b[1;34mINFO\\x1b[m] \\n[\\x1b[1;34mINFO\\x1b[m] \\x1b[1m--- \\x1b[0;32mmaven-compiler-plugin:3.1:compile\\x1b[m \\x1b[1m(default-compile)\\x1b[m @ \\x1b[36morion.flink.cep\\x1b[0;1m ---\\x1b[m\\n[\\x1b[1;34mINFO\\x1b[m] Nothing to compile - all classes are up to date\\n[\\x1b[1;34mINFO\\x1b[m] \\n[\\x1b[1;34mINFO\\x1b[m] \\x1b[1m--- \\x1b[0;32mscala-maven-plugin:3.2.2:compile\\x1b[m \\x1b[1m(default)\\x1b[m @ \\x1b[36morion.flink.cep\\x1b[0;1m ---\\x1b[m\\n[\\x1b[1;33mWARNING\\x1b[m]  Expected all dependencies to require Scala version: 2.11.12\\n[\\x1b[1;33mWARNING\\x1b[m]  org.scala-lang:scala-reflect:2.11.12 requires scala version: 2.11.12\\n[\\x1b[1;33mWARNING\\x1b[m]  org.apache.flink:flink-scala_2.11:1.5.4 requires scala version: 2.11.12\\n[\\x1b[1;33mWARNING\\x1b[m]  org.apache.flink:flink-scala_2.11:1.5.4 requires scala version: 2.11.12\\n[\\x1b[1;33mWARNING\\x1b[m]  org.scala-lang:scala-compiler:2.11.12 requires scala version: 2.11.12\\n[\\x1b[1;33mWARNING\\x1b[m]  org.scala-lang.modules:scala-xml_2.11:1.0.5 requires scala version: 2.11.7\\n[\\x1b[1;33mWARNING\\x1b[m] Multiple versions of scala libraries detected!\\n[\\x1b[1;34mINFO\\x1b[m] Nothing to compile - all classes are up to date\\n[\\x1b[1;34mINFO\\x1b[m] \\n[\\x1b[1;34mINFO\\x1b[m] \\x1b[1m--- \\x1b[0;32mbuild-helper-maven-plugin:1.7:add-test-source\\x1b[m \\x1b[1m(add-test-source)\\x1b[m @ \\x1b[36morion.flink.cep\\x1b[0;1m ---\\x1b[m\\n[\\x1b[1;34mINFO\\x1b[m] Test Source directory: /home/amunoz/Desktop/fiware-usage-control/ptp/docker/cep/src/test/scala added.\\n[\\x1b[1;34mINFO\\x1b[m] \\n[\\x1b[1;34mINFO\\x1b[m] \\x1b[1m--- \\x1b[0;32mmaven-resources-plugin:2.6:testResources\\x1b[m \\x1b[1m(default-testResources)\\x1b[m @ \\x1b[36morion.flink.cep\\x1b[0;1m ---\\x1b[m\\n[\\x1b[1;34mINFO\\x1b[m] Using 'UTF-8' encoding to copy filtered resources.\\n[\\x1b[1;34mINFO\\x1b[m] skip non existing resourceDirectory /home/amunoz/Desktop/fiware-usage-control/ptp/docker/cep/src/test/resources\\n[\\x1b[1;34mINFO\\x1b[m] \\n[\\x1b[1;34mINFO\\x1b[m] \\x1b[1m--- \\x1b[0;32mmaven-compiler-plugin:3.1:testCompile\\x1b[m \\x1b[1m(default-testCompile)\\x1b[m @ \\x1b[36morion.flink.cep\\x1b[0;1m ---\\x1b[m\\n[\\x1b[1;34mINFO\\x1b[m] No sources to compile\\n[\\x1b[1;34mINFO\\x1b[m] \\n[\\x1b[1;34mINFO\\x1b[m] \\x1b[1m--- \\x1b[0;32mscala-maven-plugin:3.2.2:testCompile\\x1b[m \\x1b[1m(default)\\x1b[m @ \\x1b[36morion.flink.cep\\x1b[0;1m ---\\x1b[m\\n[\\x1b[1;33mWARNING\\x1b[m]  Expected all dependencies to require Scala version: 2.11.12\\n[\\x1b[1;33mWARNING\\x1b[m]  org.scala-lang:scala-reflect:2.11.12 requires scala version: 2.11.12\\n[\\x1b[1;33mWARNING\\x1b[m]  org.apache.flink:flink-scala_2.11:1.5.4 requires scala version: 2.11.12\\n[\\x1b[1;33mWARNING\\x1b[m]  org.apache.flink:flink-scala_2.11:1.5.4 requires scala version: 2.11.12\\n[\\x1b[1;33mWARNING\\x1b[m]  org.scala-lang:scala-compiler:2.11.12 requires scala version: 2.11.12\\n[\\x1b[1;33mWARNING\\x1b[m]  org.scala-lang.modules:scala-xml_2.11:1.0.5 requires scala version: 2.11.7\\n[\\x1b[1;33mWARNING\\x1b[m] Multiple versions of scala libraries detected!\\n[\\x1b[1;34mINFO\\x1b[m] No sources to compile\\n[\\x1b[1;34mINFO\\x1b[m] \\n[\\x1b[1;34mINFO\\x1b[m] \\x1b[1m--- \\x1b[0;32mmaven-surefire-plugin:2.12.4:test\\x1b[m \\x1b[1m(default-test)\\x1b[m @ \\x1b[36morion.flink.cep\\x1b[0;1m ---\\x1b[m\\n[\\x1b[1;34mINFO\\x1b[m] No tests to run.\\n[\\x1b[1;34mINFO\\x1b[m] \\n[\\x1b[1;34mINFO\\x1b[m] \\x1b[1m--- \\x1b[0;32mmaven-jar-plugin:2.4:jar\\x1b[m \\x1b[1m(default-jar)\\x1b[m @ \\x1b[36morion.flink.cep\\x1b[0;1m ---\\x1b[m\\n[\\x1b[1;34mINFO\\x1b[m] \\n[\\x1b[1;34mINFO\\x1b[m] \\x1b[1m--- \\x1b[0;32mmaven-shade-plugin:3.0.0:shade\\x1b[m \\x1b[1m(default)\\x1b[m @ \\x1b[36morion.flink.cep\\x1b[0;1m ---\\x1b[m\\n[\\x1b[1;34mINFO\\x1b[m] Excluding org.slf4j:slf4j-api:jar:1.7.7 from the shaded jar.\\n[\\x1b[1;34mINFO\\x1b[m] Excluding org.apache.flink:force-shading:jar:1.5.4 from the shaded jar.\\n[\\x1b[1;34mINFO\\x1b[m] Excluding org.apache.flink:flink-shaded-guava:jar:18.0-2.0 from the shaded jar.\\n[\\x1b[1;34mINFO\\x1b[m] Excluding org.apache.flink:flink-cep-scala_2.11:jar:1.5.4 from the shaded jar.\\n[\\x1b[1;34mINFO\\x1b[m] Excluding org.apache.flink:flink-cep_2.11:jar:1.5.4 from the shaded jar.\\n[\\x1b[1;34mINFO\\x1b[m] Including org.json4s:json4s-jackson_2.11:jar:3.6.0 in the shaded jar.\\n[\\x1b[1;34mINFO\\x1b[m] Including org.json4s:json4s-core_2.11:jar:3.6.0 in the shaded jar.\\n[\\x1b[1;34mINFO\\x1b[m] Including org.json4s:json4s-ast_2.11:jar:3.6.0 in the shaded jar.\\n[\\x1b[1;34mINFO\\x1b[m] Including org.json4s:json4s-scalap_2.11:jar:3.6.0 in the shaded jar.\\n[\\x1b[1;34mINFO\\x1b[m] Including com.thoughtworks.paranamer:paranamer:jar:2.8 in the shaded jar.\\n[\\x1b[1;34mINFO\\x1b[m] Including com.fasterxml.jackson.core:jackson-databind:jar:2.9.6 in the shaded jar.\\n[\\x1b[1;34mINFO\\x1b[m] Including com.fasterxml.jackson.core:jackson-annotations:jar:2.9.0 in the shaded jar.\\n[\\x1b[1;34mINFO\\x1b[m] Including com.fasterxml.jackson.core:jackson-core:jar:2.9.6 in the shaded jar.\\n[\\x1b[1;34mINFO\\x1b[m] Including io.netty:netty-all:jar:4.1.5.Final in the shaded jar.\\n[\\x1b[1;34mINFO\\x1b[m] Excluding org.apache.flink:flink-connector-kafka-0.11_2.11:jar:1.5.4 from the shaded jar.\\n[\\x1b[1;34mINFO\\x1b[m] Excluding org.apache.flink:flink-connector-kafka-0.10_2.11:jar:1.5.4 from the shaded jar.\\n[\\x1b[1;34mINFO\\x1b[m] Excluding org.apache.flink:flink-connector-kafka-0.9_2.11:jar:1.5.4 from the shaded jar.\\n[\\x1b[1;34mINFO\\x1b[m] Excluding org.apache.flink:flink-connector-kafka-base_2.11:jar:1.5.4 from the shaded jar.\\n[\\x1b[1;34mINFO\\x1b[m] Including org.apache.kafka:kafka-clients:jar:0.11.0.2 in the shaded jar.\\n[\\x1b[1;34mINFO\\x1b[m] Including net.jpountz.lz4:lz4:jar:1.3.0 in the shaded jar.\\n[\\x1b[1;34mINFO\\x1b[m] Including org.xerial.snappy:snappy-java:jar:1.1.2.6 in the shaded jar.\\n[\\x1b[1;34mINFO\\x1b[m] Including org.apache.commons:commons-lang3:jar:3.4 in the shaded jar.\\n[\\x1b[1;34mINFO\\x1b[m] Including org.apache.httpcomponents:httpclient:jar:4.5.2 in the shaded jar.\\n[\\x1b[1;34mINFO\\x1b[m] Including org.apache.httpcomponents:httpcore:jar:4.4.4 in the shaded jar.\\n[\\x1b[1;34mINFO\\x1b[m] Including commons-logging:commons-logging:jar:1.2 in the shaded jar.\\n[\\x1b[1;34mINFO\\x1b[m] Including commons-codec:commons-codec:jar:1.9 in the shaded jar.\\n[\\x1b[1;34mINFO\\x1b[m] Excluding org.slf4j:slf4j-log4j12:jar:1.7.7 from the shaded jar.\\n[\\x1b[1;34mINFO\\x1b[m] Excluding log4j:log4j:jar:1.2.17 from the shaded jar.\\n[\\x1b[1;34mINFO\\x1b[m] Including org.scalaj:scalaj-http_2.10:jar:2.3.0 in the shaded jar.\\n[\\x1b[1;33mWARNING\\x1b[m] snappy-java-1.1.2.6.jar, orion.flink.cep-1.0-SNAPSHOT.jar define 25 overlapping classes: \\n[\\x1b[1;33mWARNING\\x1b[m]   - org.xerial.snappy.buffer.DefaultBufferAllocator$1\\n[\\x1b[1;33mWARNING\\x1b[m]   - org.xerial.snappy.SnappyOutputStream\\n[\\x1b[1;33mWARNING\\x1b[m]   - org.xerial.snappy.SnappyFramedOutputStream\\n[\\x1b[1;33mWARNING\\x1b[m]   - org.xerial.snappy.SnappyError\\n[\\x1b[1;33mWARNING\\x1b[m]   - org.xerial.snappy.SnappyFramedInputStream$FrameAction\\n[\\x1b[1;33mWARNING\\x1b[m]   - org.xerial.snappy.SnappyFramed\\n[\\x1b[1;33mWARNING\\x1b[m]   - org.xerial.snappy.SnappyException\\n[\\x1b[1;33mWARNING\\x1b[m]   - org.xerial.snappy.SnappyIOException\\n[\\x1b[1;33mWARNING\\x1b[m]   - org.xerial.snappy.PureJavaCrc32C\\n[\\x1b[1;33mWARNING\\x1b[m]   - org.xerial.snappy.OSInfo\\n[\\x1b[1;33mWARNING\\x1b[m]   - 15 more...\\n[\\x1b[1;33mWARNING\\x1b[m] orion.flink.cep-1.0-SNAPSHOT.jar, kafka-clients-0.11.0.2.jar define 897 overlapping classes: \\n[\\x1b[1;33mWARNING\\x1b[m]   - org.apache.kafka.clients.producer.Producer\\n[\\x1b[1;33mWARNING\\x1b[m]   - org.apache.kafka.common.record.KafkaLZ4BlockOutputStream$FLG\\n[\\x1b[1;33mWARNING\\x1b[m]   - org.apache.kafka.common.cache.LRUCache$1\\n[\\x1b[1;33mWARNING\\x1b[m]   - org.apache.kafka.common.record.AbstractLegacyRecordBatch$DeepRecordsIterator\\n[\\x1b[1;33mWARNING\\x1b[m]   - org.apache.kafka.common.requests.LeaderAndIsrRequest$Builder\\n[\\x1b[1;33mWARNING\\x1b[m]   - org.apache.kafka.common.resource.ResourceFilter\\n[\\x1b[1;33mWARNING\\x1b[m]   - org.apache.kafka.common.requests.PartitionState\\n[\\x1b[1;33mWARNING\\x1b[m]   - org.apache.kafka.common.record.BufferSupplier$DefaultSupplier\\n[\\x1b[1;33mWARNING\\x1b[m]   - org.apache.kafka.clients.producer.internals.FutureRecordMetadata\\n[\\x1b[1;33mWARNING\\x1b[m]   - org.apache.kafka.common.cache.Cache\\n[\\x1b[1;33mWARNING\\x1b[m]   - 887 more...\\n[\\x1b[1;33mWARNING\\x1b[m] orion.flink.cep-1.0-SNAPSHOT.jar, commons-lang3-3.4.jar define 224 overlapping classes: \\n[\\x1b[1;33mWARNING\\x1b[m]   - org.apache.commons.lang3.time.StopWatch$State$1\\n[\\x1b[1;33mWARNING\\x1b[m]   - org.apache.commons.lang3.builder.MultilineRecursiveToStringStyle\\n[\\x1b[1;33mWARNING\\x1b[m]   - org.apache.commons.lang3.SerializationUtils\\n[\\x1b[1;33mWARNING\\x1b[m]   - org.apache.commons.lang3.time.FastDatePrinter$TwentyFourHourField\\n[\\x1b[1;33mWARNING\\x1b[m]   - org.apache.commons.lang3.LocaleUtils\\n[\\x1b[1;33mWARNING\\x1b[m]   - org.apache.commons.lang3.concurrent.ConcurrentException\\n[\\x1b[1;33mWARNING\\x1b[m]   - org.apache.commons.lang3.CharRange\\n[\\x1b[1;33mWARNING\\x1b[m]   - org.apache.commons.lang3.builder.IDKey\\n[\\x1b[1;33mWARNING\\x1b[m]   - org.apache.commons.lang3.reflect.TypeUtils\\n[\\x1b[1;33mWARNING\\x1b[m]   - org.apache.commons.lang3.ArrayUtils\\n[\\x1b[1;33mWARNING\\x1b[m]   - 214 more...\\n[\\x1b[1;33mWARNING\\x1b[m] orion.flink.cep-1.0-SNAPSHOT.jar, jackson-core-2.9.6.jar define 107 overlapping classes: \\n[\\x1b[1;33mWARNING\\x1b[m]   - com.fasterxml.jackson.core.JsonGenerator$Feature\\n[\\x1b[1;33mWARNING\\x1b[m]   - com.fasterxml.jackson.core.util.ThreadLocalBufferManager$ThreadLocalBufferManagerHolder\\n[\\x1b[1;33mWARNING\\x1b[m]   - com.fasterxml.jackson.core.util.Separators\\n[\\x1b[1;33mWARNING\\x1b[m]   - com.fasterxml.jackson.core.io.SegmentedStringWriter\\n[\\x1b[1;33mWARNING\\x1b[m]   - com.fasterxml.jackson.core.TreeNode\\n[\\x1b[1;33mWARNING\\x1b[m]   - com.fasterxml.jackson.core.sym.Name\\n[\\x1b[1;33mWARNING\\x1b[m]   - com.fasterxml.jackson.core.util.RequestPayload\\n[\\x1b[1;33mWARNING\\x1b[m]   - com.fasterxml.jackson.core.util.JsonGeneratorDelegate\\n[\\x1b[1;33mWARNING\\x1b[m]   - com.fasterxml.jackson.core.async.NonBlockingInputFeeder\\n[\\x1b[1;33mWARNING\\x1b[m]   - com.fasterxml.jackson.core.JsonFactory\\n[\\x1b[1;33mWARNING\\x1b[m]   - 97 more...\\n[\\x1b[1;33mWARNING\\x1b[m] orion.flink.cep-1.0-SNAPSHOT.jar, jackson-annotations-2.9.0.jar define 68 overlapping classes: \\n[\\x1b[1;33mWARNING\\x1b[m]   - com.fasterxml.jackson.annotation.JsonAutoDetect\\n[\\x1b[1;33mWARNING\\x1b[m]   - com.fasterxml.jackson.annotation.JsonInclude\\n[\\x1b[1;33mWARNING\\x1b[m]   - com.fasterxml.jackson.annotation.ObjectIdGenerators\\n[\\x1b[1;33mWARNING\\x1b[m]   - com.fasterxml.jackson.annotation.JsonFormat$Features\\n[\\x1b[1;33mWARNING\\x1b[m]   - com.fasterxml.jackson.annotation.JsonFormat$Feature\\n[\\x1b[1;33mWARNING\\x1b[m]   - com.fasterxml.jackson.annotation.JsonIgnore\\n[\\x1b[1;33mWARNING\\x1b[m]   - com.fasterxml.jackson.annotation.JsonSetter\\n[\\x1b[1;33mWARNING\\x1b[m]   - com.fasterxml.jackson.annotation.JsonTypeInfo$None\\n[\\x1b[1;33mWARNING\\x1b[m]   - com.fasterxml.jackson.annotation.JsonFormat$Shape\\n[\\x1b[1;33mWARNING\\x1b[m]   - com.fasterxml.jackson.annotation.JsonSubTypes\\n[\\x1b[1;33mWARNING\\x1b[m]   - 58 more...\\n[\\x1b[1;33mWARNING\\x1b[m] orion.flink.cep-1.0-SNAPSHOT.jar, json4s-ast_2.11-3.6.0.jar define 72 overlapping classes: \\n[\\x1b[1;33mWARNING\\x1b[m]   - org.json4s.Merge$Mergeable\\n[\\x1b[1;33mWARNING\\x1b[m]   - org.json4s.Merge$Mergeable$MergeSyntax\\n[\\x1b[1;33mWARNING\\x1b[m]   - org.json4s.Merge$$anonfun$mergeRec$2$1\\n[\\x1b[1;33mWARNING\\x1b[m]   - org.json4s.BigDecimalMode$class\\n[\\x1b[1;33mWARNING\\x1b[m]   - org.json4s.JsonAST$JBool$\\n[\\x1b[1;33mWARNING\\x1b[m]   - org.json4s.JsonAST$JField$\\n[\\x1b[1;33mWARNING\\x1b[m]   - org.json4s.DoubleMode$class\\n[\\x1b[1;33mWARNING\\x1b[m]   - org.json4s.JsonAST$JString\\n[\\x1b[1;33mWARNING\\x1b[m]   - org.json4s.JsonAST$JSet$\\n[\\x1b[1;33mWARNING\\x1b[m]   - org.json4s.LowPriorityMergeDep$class\\n[\\x1b[1;33mWARNING\\x1b[m]   - 62 more...\\n[\\x1b[1;33mWARNING\\x1b[m] commons-logging-1.2.jar, orion.flink.cep-1.0-SNAPSHOT.jar define 28 overlapping classes: \\n[\\x1b[1;33mWARNING\\x1b[m]   - org.apache.commons.logging.LogSource\\n[\\x1b[1;33mWARNING\\x1b[m]   - org.apache.commons.logging.impl.ServletContextCleaner\\n[\\x1b[1;33mWARNING\\x1b[m]   - org.apache.commons.logging.Log\\n[\\x1b[1;33mWARNING\\x1b[m]   - org.apache.commons.logging.LogFactory$3\\n[\\x1b[1;33mWARNING\\x1b[m]   - org.apache.commons.logging.impl.LogFactoryImpl$2\\n[\\x1b[1;33mWARNING\\x1b[m]   - org.apache.commons.logging.impl.LogKitLogger\\n[\\x1b[1;33mWARNING\\x1b[m]   - org.apache.commons.logging.LogConfigurationException\\n[\\x1b[1;33mWARNING\\x1b[m]   - org.apache.commons.logging.impl.Jdk14Logger\\n[\\x1b[1;33mWARNING\\x1b[m]   - org.apache.commons.logging.impl.WeakHashtable$Referenced\\n[\\x1b[1;33mWARNING\\x1b[m]   - org.apache.commons.logging.impl.WeakHashtable$WeakKey\\n[\\x1b[1;33mWARNING\\x1b[m]   - 18 more...\\n[\\x1b[1;33mWARNING\\x1b[m] httpclient-4.5.2.jar, orion.flink.cep-1.0-SNAPSHOT.jar define 463 overlapping classes: \\n[\\x1b[1;33mWARNING\\x1b[m]   - org.apache.http.impl.cookie.RFC2109Spec\\n[\\x1b[1;33mWARNING\\x1b[m]   - org.apache.http.impl.execchain.MainClientExec\\n[\\x1b[1;33mWARNING\\x1b[m]   - org.apache.http.client.methods.HttpGet\\n[\\x1b[1;33mWARNING\\x1b[m]   - org.apache.http.conn.routing.RouteInfo$TunnelType\\n[\\x1b[1;33mWARNING\\x1b[m]   - org.apache.http.impl.cookie.BrowserCompatSpecFactory\\n[\\x1b[1;33mWARNING\\x1b[m]   - org.apache.http.impl.client.HttpAuthenticator\\n[\\x1b[1;33mWARNING\\x1b[m]   - org.apache.http.conn.ManagedClientConnection\\n[\\x1b[1;33mWARNING\\x1b[m]   - org.apache.http.client.protocol.RequestAuthCache\\n[\\x1b[1;33mWARNING\\x1b[m]   - org.apache.http.conn.params.ConnConnectionParamBean\\n[\\x1b[1;33mWARNING\\x1b[m]   - org.apache.http.impl.client.IdleConnectionEvictor\\n[\\x1b[1;33mWARNING\\x1b[m]   - 453 more...\\n[\\x1b[1;33mWARNING\\x1b[m] orion.flink.cep-1.0-SNAPSHOT.jar, json4s-jackson_2.11-3.6.0.jar define 29 overlapping classes: \\n[\\x1b[1;33mWARNING\\x1b[m]   - org.json4s.jackson.JsonMethods$class\\n[\\x1b[1;33mWARNING\\x1b[m]   - org.json4s.jackson.Json\\n[\\x1b[1;33mWARNING\\x1b[m]   - org.json4s.jackson.JValueSerializer$$anonfun$serialize$5\\n[\\x1b[1;33mWARNING\\x1b[m]   - org.json4s.jackson.Json$\\n[\\x1b[1;33mWARNING\\x1b[m]   - org.json4s.jackson.Json4sModule$$anonfun$1\\n[\\x1b[1;33mWARNING\\x1b[m]   - org.json4s.jackson.JValueSerializerResolver$\\n[\\x1b[1;33mWARNING\\x1b[m]   - org.json4s.jackson.Json4sModule$\\n[\\x1b[1;33mWARNING\\x1b[m]   - org.json4s.jackson.JsonMethods$$anonfun$parseOpt$1\\n[\\x1b[1;33mWARNING\\x1b[m]   - org.json4s.jackson.JValueDeserializerResolver$\\n[\\x1b[1;33mWARNING\\x1b[m]   - org.json4s.jackson.package\\n[\\x1b[1;33mWARNING\\x1b[m]   - 19 more...\\n[\\x1b[1;33mWARNING\\x1b[m] lz4-1.3.0.jar, orion.flink.cep-1.0-SNAPSHOT.jar define 69 overlapping classes: \\n[\\x1b[1;33mWARNING\\x1b[m]   - net.jpountz.xxhash.AbstractStreamingXXHash32Java\\n[\\x1b[1;33mWARNING\\x1b[m]   - net.jpountz.lz4.LZ4BlockInputStream\\n[\\x1b[1;33mWARNING\\x1b[m]   - net.jpountz.xxhash.XXHash32JNI\\n[\\x1b[1;33mWARNING\\x1b[m]   - net.jpountz.lz4.LZ4BlockOutputStream\\n[\\x1b[1;33mWARNING\\x1b[m]   - net.jpountz.lz4.LZ4JNI\\n[\\x1b[1;33mWARNING\\x1b[m]   - net.jpountz.lz4.LZ4JavaUnsafeFastDecompressor\\n[\\x1b[1;33mWARNING\\x1b[m]   - net.jpountz.lz4.LZ4SafeUtils\\n[\\x1b[1;33mWARNING\\x1b[m]   - net.jpountz.xxhash.StreamingXXHash32JNI$Factory\\n[\\x1b[1;33mWARNING\\x1b[m]   - net.jpountz.util.UnsafeUtils\\n[\\x1b[1;33mWARNING\\x1b[m]   - net.jpountz.lz4.LZ4HCJavaUnsafeCompressor$HashTable\\n[\\x1b[1;33mWARNING\\x1b[m]   - 59 more...\\n[\\x1b[1;33mWARNING\\x1b[m] jackson-databind-2.9.6.jar, orion.flink.cep-1.0-SNAPSHOT.jar define 624 overlapping classes: \\n[\\x1b[1;33mWARNING\\x1b[m]   - com.fasterxml.jackson.databind.introspect.AnnotationCollector$NoAnnotations\\n[\\x1b[1;33mWARNING\\x1b[m]   - com.fasterxml.jackson.databind.BeanDescription\\n[\\x1b[1;33mWARNING\\x1b[m]   - com.fasterxml.jackson.databind.deser.impl.BeanAsArrayBuilderDeserializer\\n[\\x1b[1;33mWARNING\\x1b[m]   - com.fasterxml.jackson.databind.introspect.AnnotatedMethodMap\\n[\\x1b[1;33mWARNING\\x1b[m]   - com.fasterxml.jackson.databind.SerializerProvider\\n[\\x1b[1;33mWARNING\\x1b[m]   - com.fasterxml.jackson.databind.introspect.AnnotationCollector$OneAnnotation\\n[\\x1b[1;33mWARNING\\x1b[m]   - com.fasterxml.jackson.databind.ser.std.StaticListSerializerBase\\n[\\x1b[1;33mWARNING\\x1b[m]   - com.fasterxml.jackson.databind.ser.std.NumberSerializers$ShortSerializer\\n[\\x1b[1;33mWARNING\\x1b[m]   - com.fasterxml.jackson.databind.ser.BeanSerializerFactory\\n[\\x1b[1;33mWARNING\\x1b[m]   - com.fasterxml.jackson.databind.introspect.AnnotationCollector$TwoAnnotations\\n[\\x1b[1;33mWARNING\\x1b[m]   - 614 more...\\n[\\x1b[1;33mWARNING\\x1b[m] httpcore-4.4.4.jar, orion.flink.cep-1.0-SNAPSHOT.jar define 254 overlapping classes: \\n[\\x1b[1;33mWARNING\\x1b[m]   - org.apache.http.protocol.HttpRequestHandler\\n[\\x1b[1;33mWARNING\\x1b[m]   - org.apache.http.impl.io.ChunkedOutputStream\\n[\\x1b[1;33mWARNING\\x1b[m]   - org.apache.http.protocol.ChainBuilder\\n[\\x1b[1;33mWARNING\\x1b[m]   - org.apache.http.impl.entity.DisallowIdentityContentLengthStrategy\\n[\\x1b[1;33mWARNING\\x1b[m]   - org.apache.http.impl.ConnSupport\\n[\\x1b[1;33mWARNING\\x1b[m]   - org.apache.http.impl.io.DefaultHttpResponseParserFactory\\n[\\x1b[1;33mWARNING\\x1b[m]   - org.apache.http.NameValuePair\\n[\\x1b[1;33mWARNING\\x1b[m]   - org.apache.http.HttpClientConnection\\n[\\x1b[1;33mWARNING\\x1b[m]   - org.apache.http.protocol.HttpExpectationVerifier\\n[\\x1b[1;33mWARNING\\x1b[m]   - org.apache.http.protocol.UriPatternMatcher\\n[\\x1b[1;33mWARNING\\x1b[m]   - 244 more...\\n[\\x1b[1;33mWARNING\\x1b[m] orion.flink.cep-1.0-SNAPSHOT.jar, scalaj-http_2.10-2.3.0.jar define 99 overlapping classes: \\n[\\x1b[1;33mWARNING\\x1b[m]   - scalaj.http.HttpOptions$$anonfun$followRedirects$1\\n[\\x1b[1;33mWARNING\\x1b[m]   - scalaj.http.QueryStringUrlFunc$\\n[\\x1b[1;33mWARNING\\x1b[m]   - scalaj.http.StringBodyConnectFunc\\n[\\x1b[1;33mWARNING\\x1b[m]   - scalaj.http.Token\\n[\\x1b[1;33mWARNING\\x1b[m]   - scalaj.http.HttpRequest$$anonfun$asParams$1\\n[\\x1b[1;33mWARNING\\x1b[m]   - scalaj.http.HttpRequest$$anonfun$asToken$1\\n[\\x1b[1;33mWARNING\\x1b[m]   - scalaj.http.HttpRequest$$anonfun$asString$1$$anonfun$6\\n[\\x1b[1;33mWARNING\\x1b[m]   - scalaj.http.PlainUrlFunc$\\n[\\x1b[1;33mWARNING\\x1b[m]   - scalaj.http.HttpRequest$$anonfun$asString$1\\n[\\x1b[1;33mWARNING\\x1b[m]   - scalaj.http.HttpConstants$$anonfun$readParams$1\\n[\\x1b[1;33mWARNING\\x1b[m]   - 89 more...\\n[\\x1b[1;33mWARNING\\x1b[m] orion.flink.cep-1.0-SNAPSHOT.jar, json4s-scalap_2.11-3.6.0.jar define 486 overlapping classes: \\n[\\x1b[1;33mWARNING\\x1b[m]   - org.json4s.scalap.scalasig.ClassFileParser$$anonfun$53\\n[\\x1b[1;33mWARNING\\x1b[m]   - org.json4s.scalap.scalasig.ScalaSigEntryParsers$\\n[\\x1b[1;33mWARNING\\x1b[m]   - org.json4s.scalap.scalasig.AliasSymbol\\n[\\x1b[1;33mWARNING\\x1b[m]   - org.json4s.scalap.scalasig.ScalaSigEntryParsers$$anonfun$typeEntry$10\\n[\\x1b[1;33mWARNING\\x1b[m]   - org.json4s.scalap.scalasig.ClassFileParser$$anonfun$element_value$1$$anonfun$apply$29\\n[\\x1b[1;33mWARNING\\x1b[m]   - org.json4s.scalap.scalasig.ScalaSigEntryParsers$$anonfun$literal$17\\n[\\x1b[1;33mWARNING\\x1b[m]   - org.json4s.scalap.MemoisableRules$$anonfun$ruleWithName$1\\n[\\x1b[1;33mWARNING\\x1b[m]   - org.json4s.scalap.Rule$$anonfun$$tilde$bang$1$$anonfun$apply$12\\n[\\x1b[1;33mWARNING\\x1b[m]   - org.json4s.scalap.scalasig.ClassFileParser$$anonfun$40\\n[\\x1b[1;33mWARNING\\x1b[m]   - org.json4s.scalap.scalasig.ScalaSigEntryParsers$$anonfun$toEntry$1\\n[\\x1b[1;33mWARNING\\x1b[m]   - 476 more...\\n[\\x1b[1;33mWARNING\\x1b[m] orion.flink.cep-1.0-SNAPSHOT.jar, netty-all-4.1.5.Final.jar define 2289 overlapping classes: \\n[\\x1b[1;33mWARNING\\x1b[m]   - io.netty.handler.codec.http.multipart.InterfaceHttpData$HttpDataType\\n[\\x1b[1;33mWARNING\\x1b[m]   - io.netty.resolver.dns.InflightNameResolver$1\\n[\\x1b[1;33mWARNING\\x1b[m]   - io.netty.channel.AbstractChannel$AbstractUnsafe$8\\n[\\x1b[1;33mWARNING\\x1b[m]   - io.netty.handler.codec.redis.RedisMessage\\n[\\x1b[1;33mWARNING\\x1b[m]   - io.netty.handler.codec.memcache.binary.BinaryMemcacheResponse\\n[\\x1b[1;33mWARNING\\x1b[m]   - io.netty.handler.timeout.IdleStateHandler\\n[\\x1b[1;33mWARNING\\x1b[m]   - io.netty.buffer.FixedCompositeByteBuf$Component\\n[\\x1b[1;33mWARNING\\x1b[m]   - io.netty.handler.codec.http.HttpHeaders\\n[\\x1b[1;33mWARNING\\x1b[m]   - io.netty.channel.group.ChannelMatchers$ClassMatcher\\n[\\x1b[1;33mWARNING\\x1b[m]   - io.netty.handler.codec.http2.Http2ClientUpgradeCodec\\n[\\x1b[1;33mWARNING\\x1b[m]   - 2279 more...\\n[\\x1b[1;33mWARNING\\x1b[m] orion.flink.cep-1.0-SNAPSHOT.jar, commons-codec-1.9.jar define 85 overlapping classes: \\n[\\x1b[1;33mWARNING\\x1b[m]   - org.apache.commons.codec.language.Nysiis\\n[\\x1b[1;33mWARNING\\x1b[m]   - org.apache.commons.codec.language.bm.Rule$1\\n[\\x1b[1;33mWARNING\\x1b[m]   - org.apache.commons.codec.language.bm.Rule$RPattern\\n[\\x1b[1;33mWARNING\\x1b[m]   - org.apache.commons.codec.language.ColognePhonetic$CologneInputBuffer\\n[\\x1b[1;33mWARNING\\x1b[m]   - org.apache.commons.codec.language.bm.BeiderMorseEncoder\\n[\\x1b[1;33mWARNING\\x1b[m]   - org.apache.commons.codec.digest.UnixCrypt\\n[\\x1b[1;33mWARNING\\x1b[m]   - org.apache.commons.codec.language.Soundex\\n[\\x1b[1;33mWARNING\\x1b[m]   - org.apache.commons.codec.binary.BinaryCodec\\n[\\x1b[1;33mWARNING\\x1b[m]   - org.apache.commons.codec.language.bm.Languages$1\\n[\\x1b[1;33mWARNING\\x1b[m]   - org.apache.commons.codec.language.bm.PhoneticEngine$1\\n[\\x1b[1;33mWARNING\\x1b[m]   - 75 more...\\n[\\x1b[1;33mWARNING\\x1b[m] orion.flink.cep-1.0-SNAPSHOT.jar, json4s-core_2.11-3.6.0.jar define 472 overlapping classes: \\n[\\x1b[1;33mWARNING\\x1b[m]   - org.json4s.reflect.ScalaSigReader$$anonfun$3\\n[\\x1b[1;33mWARNING\\x1b[m]   - org.json4s.CustomSerializer\\n[\\x1b[1;33mWARNING\\x1b[m]   - org.json4s.ParserUtil$Buffer$$anonfun$release$1\\n[\\x1b[1;33mWARNING\\x1b[m]   - org.json4s.reflect.package$$anon$2\\n[\\x1b[1;33mWARNING\\x1b[m]   - org.json4s.Extraction$ClassInstanceBuilder$$anonfun$19\\n[\\x1b[1;33mWARNING\\x1b[m]   - org.json4s.DefaultReaders$JValueReader$\\n[\\x1b[1;33mWARNING\\x1b[m]   - org.json4s.StreamingJsonWriter$$anonfun$addJValue$1\\n[\\x1b[1;33mWARNING\\x1b[m]   - org.json4s.ParserUtil$RecycledSegment\\n[\\x1b[1;33mWARNING\\x1b[m]   - org.json4s.package\\n[\\x1b[1;33mWARNING\\x1b[m]   - org.json4s.DefaultReaders$\\n[\\x1b[1;33mWARNING\\x1b[m]   - 462 more...\\n[\\x1b[1;33mWARNING\\x1b[m] paranamer-2.8.jar, orion.flink.cep-1.0-SNAPSHOT.jar define 21 overlapping classes: \\n[\\x1b[1;33mWARNING\\x1b[m]   - com.thoughtworks.paranamer.PositionalParanamer\\n[\\x1b[1;33mWARNING\\x1b[m]   - com.thoughtworks.paranamer.JavadocParanamer\\n[\\x1b[1;33mWARNING\\x1b[m]   - com.thoughtworks.paranamer.BytecodeReadingParanamer\\n[\\x1b[1;33mWARNING\\x1b[m]   - com.thoughtworks.paranamer.BytecodeReadingParanamer$Type\\n[\\x1b[1;33mWARNING\\x1b[m]   - com.thoughtworks.paranamer.BytecodeReadingParanamer$1\\n[\\x1b[1;33mWARNING\\x1b[m]   - com.thoughtworks.paranamer.JavadocParanamer$DirJavadocProvider\\n[\\x1b[1;33mWARNING\\x1b[m]   - com.thoughtworks.paranamer.AnnotationParanamer$Jsr330Helper\\n[\\x1b[1;33mWARNING\\x1b[m]   - com.thoughtworks.paranamer.BytecodeReadingParanamer$TypeCollector\\n[\\x1b[1;33mWARNING\\x1b[m]   - com.thoughtworks.paranamer.AnnotationParanamer\\n[\\x1b[1;33mWARNING\\x1b[m]   - com.thoughtworks.paranamer.NullParanamer\\n[\\x1b[1;33mWARNING\\x1b[m]   - 11 more...\\n[\\x1b[1;33mWARNING\\x1b[m] maven-shade-plugin has detected that some class files are\\n[\\x1b[1;33mWARNING\\x1b[m] present in two or more JARs. When this happens, only one\\n[\\x1b[1;33mWARNING\\x1b[m] single version of the class is copied to the uber jar.\\n[\\x1b[1;33mWARNING\\x1b[m] Usually this is not harmful and you can skip these warnings,\\n[\\x1b[1;33mWARNING\\x1b[m] otherwise try to manually exclude artifacts based on\\n[\\x1b[1;33mWARNING\\x1b[m] mvn dependency:tree -Ddetail=true and the above output.\\n[\\x1b[1;33mWARNING\\x1b[m] See http://maven.apache.org/plugins/maven-shade-plugin/\\n[\\x1b[1;34mINFO\\x1b[m] Replacing original artifact with shaded artifact.\\n[\\x1b[1;34mINFO\\x1b[m] Replacing /home/amunoz/Desktop/fiware-usage-control/ptp/docker/cep/target/orion.flink.cep-1.0-SNAPSHOT.jar with /home/amunoz/Desktop/fiware-usage-control/ptp/docker/cep/target/orion.flink.cep-1.0-SNAPSHOT-shaded.jar\\n[\\x1b[1;34mINFO\\x1b[m] Dependency-reduced POM written at: /home/amunoz/Desktop/fiware-usage-control/ptp/docker/cep/dependency-reduced-pom.xml\\n[\\x1b[1;34mINFO\\x1b[m] \\x1b[1m------------------------------------------------------------------------\\x1b[m\\n[\\x1b[1;34mINFO\\x1b[m] \\x1b[1;32mBUILD SUCCESS\\x1b[m\\n[\\x1b[1;34mINFO\\x1b[m] \\x1b[1m------------------------------------------------------------------------\\x1b[m\\n[\\x1b[1;34mINFO\\x1b[m] Total time: 2.666 s\\n[\\x1b[1;34mINFO\\x1b[m] Finished at: 2019-04-08T17:04:29+02:00\\n[\\x1b[1;34mINFO\\x1b[m] Final Memory: 39M/528M\\n[\\x1b[1;34mINFO\\x1b[m] \\x1b[1m------------------------------------------------------------------------\\x1b[m\\n\"\n",
      "orion.flink.cep-1.0-SNAPSHOT.jar\n",
      "About Uploaded Jar:{'filename': '/tmp/flink-web-2d49b431-eb90-42de-950c-cf8bdd15bb7b/flink-web-upload/d80e980a-6aed-4e14-8b7d-40f5e12abf01_orion.flink.cep-1.0-SNAPSHOT.jar', 'status': 'success'}\n",
      "About the running Job:{'jobid': 'e9a8b98c56731aeb9ce88e0633defddb'}\n"
     ]
    },
    {
     "name": "stderr",
     "output_type": "stream",
     "text": [
      "127.0.0.1 - - [08/Apr/2019 17:04:29] \"POST / HTTP/1.1\" 200 -\n"
     ]
    },
    {
     "name": "stdout",
     "output_type": "stream",
     "text": [
      "b'{    \"rule\": {        \"type\": \"COUNT_POLICY\",        \"params\": {            \"numMaxEvents\": 200,            \"eventWindow\": 15000,             }    },    \"punishment\": {        \"type\":  \"UNSUBSCRIBE\"      }}'\n",
      "/home/amunoz/Desktop/fiware-usage-control/ptp/docker/cep/target\n"
     ]
    },
    {
     "name": "stderr",
     "output_type": "stream",
     "text": [
      "----------------------------------------\n",
      "Exception happened during processing of request from ('127.0.0.1', 35390)\n",
      "Traceback (most recent call last):\n",
      "  File \"/usr/lib/python3.6/socketserver.py\", line 317, in _handle_request_noblock\n",
      "    self.process_request(request, client_address)\n",
      "  File \"/usr/lib/python3.6/socketserver.py\", line 348, in process_request\n",
      "    self.finish_request(request, client_address)\n",
      "  File \"/usr/lib/python3.6/socketserver.py\", line 361, in finish_request\n",
      "    self.RequestHandlerClass(request, client_address, self)\n",
      "  File \"/usr/lib/python3.6/socketserver.py\", line 721, in __init__\n",
      "    self.handle()\n",
      "  File \"/usr/lib/python3.6/http/server.py\", line 418, in handle\n",
      "    self.handle_one_request()\n",
      "  File \"/usr/lib/python3.6/http/server.py\", line 406, in handle_one_request\n",
      "    method()\n",
      "  File \"<ipython-input-1-ae189a110efa>\", line 29, in do_POST\n",
      "    self.execute_maven()\n",
      "  File \"<ipython-input-1-ae189a110efa>\", line 38, in execute_maven\n",
      "    os.chdir(mypath)\n",
      "FileNotFoundError: [Errno 2] No such file or directory: '/home/amunoz/Desktop/fiware-usage-control/ptp/docker/cep/target/cep'\n",
      "----------------------------------------\n"
     ]
    }
   ],
   "source": [
    "#!/usr/bin/env python\n",
    "\n",
    "from pathlib import Path    \n",
    "from http.server import BaseHTTPRequestHandler, HTTPServer\n",
    "import socketserver,subprocess,os,requests,json,time\n",
    "\n",
    "class S(BaseHTTPRequestHandler):\n",
    "    def _set_headers(self):\n",
    "        self.send_response(200)\n",
    "        self.send_header('Content-type', 'text/html')\n",
    "        self.end_headers()\n",
    "\n",
    "    def do_GET(self):\n",
    "        self._set_headers()\n",
    "        self.wfile.write(\"<html><body><h1>hi!</h1></body></html>\")\n",
    "\n",
    "    def do_HEAD(self):\n",
    "        self._set_headers()\n",
    "        \n",
    "    def do_POST(self):\n",
    "        # Doesn't do anything with posted data\n",
    "        flinkEndpoint=\"138.4.7.94:8082\"\n",
    "        entryClass=\"\"\n",
    "        content_length = int(self.headers['Content-Length']) # <--- Gets the size of data\n",
    "        post_data = self.rfile.read(content_length) # <--- Gets the data itself\n",
    "        print(post_data)\n",
    "        ##Call function to generate cep code then call to execute maven, teh code must be in the \n",
    "        #current directory\n",
    "        self.execute_maven()\n",
    "        jarId=self.upload_jar(flinkEndpoint)\n",
    "        jobId=self.run_job(jarId,flinkEndpoint)\n",
    "        self._set_headers()\n",
    "\n",
    "    \n",
    "    def execute_maven(self):\n",
    "        print (os.getcwd())\n",
    "        mypath = './cep'\n",
    "        os.chdir(mypath)\n",
    "        p = subprocess.Popen([\"mvn\", \"package\"], stdout=subprocess.PIPE)\n",
    "        output, err = p.communicate()\n",
    "        print (output)\n",
    "    \n",
    "    def upload_jar(self,flinkEndpoint):\n",
    "        mypath = Path().absolute()/'target'\n",
    "        os.chdir(mypath)\n",
    "        files = os.listdir(mypath)\n",
    "        jarName = \"\"\n",
    "        for name in files:\n",
    "            if 'cep' in name and 'original' not in name:\n",
    "                jarName = name\n",
    "                print(name)\n",
    "        FLINK_ENDPOINT = \"http://\"+flinkEndpoint+\"/jars/upload\"\n",
    "        file_list = [  \n",
    "        ('jarfile', (jarName, open(jarName, 'rb'), mypath))]\n",
    "        r = requests.post(url = FLINK_ENDPOINT,  files=file_list) \n",
    "        pastebin_url = json.loads(r.text) \n",
    "        args=pastebin_url.get(\"filename\").split(\"/\")\n",
    "        jarId=args[len(args)-1]\n",
    "        print(\"About Uploaded Jar:%s\"%pastebin_url)\n",
    "        os.chdir('../..')\n",
    "        return jarId\n",
    "   \n",
    "    def run_job(self,jarId,flinkEndpoint):\n",
    "        FLINK_ENDPOINT = \"http://\"+flinkEndpoint+\"/jars/\"+jarId+\"/run?allowNonRestoredState=true\"\n",
    "        r = requests.post(url = FLINK_ENDPOINT) \n",
    "        pastebin_url = json.loads(r.text)\n",
    "        jobID=pastebin_url.get(\"id\")\n",
    "        print(\"About the running Job:%s\"%pastebin_url)    \n",
    "        return jobID        \n",
    "        \n",
    "def run(server_class=HTTPServer, handler_class=S, port=8092):\n",
    "    server_address = ('', port)\n",
    "    httpd = server_class(server_address, handler_class)\n",
    "    print ('Starting httpd...')\n",
    "    httpd.serve_forever()\n",
    "\n",
    "if __name__ == \"__main__\":\n",
    "    from sys import argv\n",
    "\n",
    "    if len(argv) == 2:\n",
    "        run(port=int(argv[1]))\n",
    "    else:\n",
    "        run()"
   ]
  },
  {
   "cell_type": "code",
   "execution_count": null,
   "metadata": {},
   "outputs": [],
   "source": [
    "os.getcwd()"
   ]
  },
  {
   "cell_type": "code",
   "execution_count": null,
   "metadata": {},
   "outputs": [],
   "source": [
    "os.path.dirname(os.path.abspath(__file__))\n"
   ]
  },
  {
   "cell_type": "code",
   "execution_count": 2,
   "metadata": {},
   "outputs": [],
   "source": [
    " from pathlib import Path    "
   ]
  },
  {
   "cell_type": "code",
   "execution_count": 6,
   "metadata": {},
   "outputs": [
    {
     "name": "stdout",
     "output_type": "stream",
     "text": [
      "Absolute path : /home/amunoz/Desktop/fiware-usage-control/ptp/docker/cep/target\n",
      "orion.flink.cep-1.0-SNAPSHOT.jar\n",
      "classes\n",
      "maven-status\n",
      "original-orion.flink.cep-1.0-SNAPSHOT.jar\n",
      "classes.912030222.timestamp\n",
      "maven-archiver\n"
     ]
    },
    {
     "ename": "FileNotFoundError",
     "evalue": "[Errno 2] No such file or directory: 'orion.flink.cep-1.0-SNAPSHOT.jar'",
     "output_type": "error",
     "traceback": [
      "\u001b[0;31m---------------------------------------------------------------------------\u001b[0m",
      "\u001b[0;31mFileNotFoundError\u001b[0m                         Traceback (most recent call last)",
      "\u001b[0;32m<ipython-input-6-04a74152fb07>\u001b[0m in \u001b[0;36m<module>\u001b[0;34m\u001b[0m\n\u001b[1;32m     19\u001b[0m     \u001b[0mprint\u001b[0m\u001b[0;34m(\u001b[0m\u001b[0;34m\"About Uploaded Jar:%s\"\u001b[0m\u001b[0;34m%\u001b[0m\u001b[0mpastebin_url\u001b[0m\u001b[0;34m)\u001b[0m\u001b[0;34m\u001b[0m\u001b[0;34m\u001b[0m\u001b[0m\n\u001b[1;32m     20\u001b[0m \u001b[0;34m\u001b[0m\u001b[0m\n\u001b[0;32m---> 21\u001b[0;31m \u001b[0mupload_job\u001b[0m\u001b[0;34m(\u001b[0m\u001b[0;34m\"138.4.7.94:8082\"\u001b[0m\u001b[0;34m)\u001b[0m\u001b[0;34m\u001b[0m\u001b[0;34m\u001b[0m\u001b[0m\n\u001b[0m",
      "\u001b[0;32m<ipython-input-6-04a74152fb07>\u001b[0m in \u001b[0;36mupload_job\u001b[0;34m(flinkEndpoint)\u001b[0m\n\u001b[1;32m     12\u001b[0m     \u001b[0mFLINK_ENDPOINT\u001b[0m \u001b[0;34m=\u001b[0m \u001b[0;34m\"http://\"\u001b[0m\u001b[0;34m+\u001b[0m\u001b[0mflinkEndpoint\u001b[0m\u001b[0;34m+\u001b[0m\u001b[0;34m\"/jars/upload\"\u001b[0m\u001b[0;34m\u001b[0m\u001b[0;34m\u001b[0m\u001b[0m\n\u001b[1;32m     13\u001b[0m     file_list = [  \n\u001b[0;32m---> 14\u001b[0;31m     ('jarfile', ('orion.flink.cep-1.0-SNAPSHOT.jar', open('orion.flink.cep-1.0-SNAPSHOT.jar', 'rb'), mypath))]\n\u001b[0m\u001b[1;32m     15\u001b[0m     \u001b[0mr\u001b[0m \u001b[0;34m=\u001b[0m \u001b[0mrequests\u001b[0m\u001b[0;34m.\u001b[0m\u001b[0mpost\u001b[0m\u001b[0;34m(\u001b[0m\u001b[0murl\u001b[0m \u001b[0;34m=\u001b[0m \u001b[0mFLINK_ENDPOINT\u001b[0m\u001b[0;34m,\u001b[0m  \u001b[0mfiles\u001b[0m\u001b[0;34m=\u001b[0m\u001b[0mfile_list\u001b[0m\u001b[0;34m)\u001b[0m\u001b[0;34m\u001b[0m\u001b[0;34m\u001b[0m\u001b[0m\n\u001b[1;32m     16\u001b[0m     \u001b[0mpastebin_url\u001b[0m \u001b[0;34m=\u001b[0m \u001b[0mjson\u001b[0m\u001b[0;34m.\u001b[0m\u001b[0mloads\u001b[0m\u001b[0;34m(\u001b[0m\u001b[0mr\u001b[0m\u001b[0;34m.\u001b[0m\u001b[0mtext\u001b[0m\u001b[0;34m)\u001b[0m\u001b[0;34m\u001b[0m\u001b[0;34m\u001b[0m\u001b[0m\n",
      "\u001b[0;31mFileNotFoundError\u001b[0m: [Errno 2] No such file or directory: 'orion.flink.cep-1.0-SNAPSHOT.jar'"
     ]
    }
   ],
   "source": [
    "import requests \n",
    "import json,os\n",
    "\n",
    "mypath = Path().absolute()/'cep'/'target'\n",
    "print('Absolute path : {}'.format(mypath))\n",
    "files = os.listdir(mypath)\n",
    "for name in files:\n",
    "    print(name)\n",
    "        \n",
    "def upload_job(flinkEndpoint):\n",
    "    mypath = Path().absolute()/'cep'/'target'\n",
    "    FLINK_ENDPOINT = \"http://\"+flinkEndpoint+\"/jars/upload\"\n",
    "    file_list = [  \n",
    "    ('jarfile', ('orion.flink.cep-1.0-SNAPSHOT.jar', open('orion.flink.cep-1.0-SNAPSHOT.jar', 'rb'), mypath))]\n",
    "    r = requests.post(url = FLINK_ENDPOINT,  files=file_list) \n",
    "    pastebin_url = json.loads(r.text) \n",
    "    args=pastebin_url.get(\"filename\").split(\"/\")\n",
    "    jarId=args[len(args)-1]\n",
    "    print(\"About Uploaded Jar:%s\"%pastebin_url)\n",
    "\n",
    "upload_job(\"138.4.7.94:8082\")"
   ]
  },
  {
   "cell_type": "code",
   "execution_count": 61,
   "metadata": {},
   "outputs": [
    {
     "name": "stdout",
     "output_type": "stream",
     "text": [
      "About the running Job:{'jobid': '4183f3da317b8abfab48332fa260a3c2'}\n"
     ]
    }
   ],
   "source": [
    "def run_job(self,jarId,flinkEndpoint,entryClass=''):\n",
    "        if(entryClass==None or entryClass==''):\n",
    "            entryClass=\"org.fiware.cosmos.orion.flink.cep.CEPMonitoring.class\"\n",
    "            #entry-class=org.fiware.cosmos.orion.flink.cep.CEPMonitoring.class&\n",
    "        FLINK_ENDPOINT = \"http://\"+flinkEndpoint+\"/jars/\"+jarId+\"/run?allowNonRestoredState=true\"\n",
    "        r = requests.post(url = FLINK_ENDPOINT) \n",
    "        pastebin_url = json.loads(r.text)\n",
    "        jobID=pastebin_url.get(\"id\")\n",
    "        print(\"About the running Job:%s\"%pastebin_url)    \n",
    "        return jobID\n",
    "\n",
    "run_job(\"\",\"201986ff-9e15-4e3a-8a15-b62658a7d38f_orion.flink.cep-1.0-SNAPSHOT.jar\",\"138.4.7.94:8082\")"
   ]
  },
  {
   "cell_type": "code",
   "execution_count": 42,
   "metadata": {},
   "outputs": [
    {
     "name": "stdout",
     "output_type": "stream",
     "text": [
      "{\"type\": \"object\", \"id\": \"urn:jsonschema:org:apache:flink:runtime:webmonitor:handlers:JarRunRequestBody\", \"properties\": {\"entryClass\": \"org.fiware.cosmos.orion.flink.cep.CEPMonitoring2\"}}\n"
     ]
    }
   ],
   "source": [
    "\n",
    "print(data)\n"
   ]
  }
 ],
 "metadata": {
  "kernelspec": {
   "display_name": "Python 3",
   "language": "python",
   "name": "python3"
  },
  "language_info": {
   "codemirror_mode": {
    "name": "ipython",
    "version": 3
   },
   "file_extension": ".py",
   "mimetype": "text/x-python",
   "name": "python",
   "nbconvert_exporter": "python",
   "pygments_lexer": "ipython3",
   "version": "3.6.7"
  }
 },
 "nbformat": 4,
 "nbformat_minor": 2
}
